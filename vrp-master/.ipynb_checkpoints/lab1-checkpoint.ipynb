{
 "cells": [
  {
   "cell_type": "code",
   "execution_count": 29,
   "metadata": {},
   "outputs": [
    {
     "ename": "SyntaxError",
     "evalue": "invalid syntax (<ipython-input-29-eafe5db1af10>, line 73)",
     "output_type": "error",
     "traceback": [
      "\u001b[1;36m  File \u001b[1;32m\"<ipython-input-29-eafe5db1af10>\"\u001b[1;36m, line \u001b[1;32m73\u001b[0m\n\u001b[1;33m    def _global_disturbance(self, u)\u001b[0m\n\u001b[1;37m                                    ^\u001b[0m\n\u001b[1;31mSyntaxError\u001b[0m\u001b[1;31m:\u001b[0m invalid syntax\n"
     ]
    }
   ],
   "source": [
    "import re\n",
    "import pandas as pd\n",
    "import numpy as np\n",
    "\n",
    "from sklearn.cluster import KMeans\n",
    "\n",
    "class VRPSolver:\n",
    "    def __init__(self, instance, n_clusters=10):\n",
    "        self.name, self.vehicle_number, self.vehicle_capacity, columns_names, lines = self.read_data(instance)\n",
    "        self.df = pd.DataFrame(data=lines, columns=columns_names, dtype=int).set_index('cust_no')\n",
    "        self.distances = {(i,j): self._dist_from_to(i, j) for i in range(100) for j in range(i)}\n",
    "        self.route = list() \n",
    "        self.arrival = np.zeros(self.df.shape[0])\n",
    "        self.possible_arrival = np.zeros(self.df.shape[0])\n",
    "        self.solution = list()\n",
    "        self.start_serving = np.zeros(self.df.shape[0])\n",
    "        self.opened = self.df.loc[:, 'ready_time']\n",
    "        self.closed = self.df.loc[:, 'due_date']\n",
    "        self.service = self.df.loc[:, 'service_time']\n",
    "        self.current_cluster = None\n",
    "        \n",
    "        kmc = KMeans(n_clusters, n_jobs=8)\n",
    "        coords = self.df.loc[:, ['xcoord', 'ycoord']]\n",
    "        self.df['cluster'] = kmc.fit_predict(coords)\n",
    "        \n",
    "    def read_data(self, filepath):\n",
    "        with open(filepath, 'r') as f:\n",
    "            name = f.readline()\n",
    "            f.readline()\n",
    "            f.readline()\n",
    "            f.readline()\n",
    "            vehicle_number, vehicle_capacity = re.sub('\\s\\s+', ';', f.readline().strip()).split(';')\n",
    "            f.readline()\n",
    "            f.readline()\n",
    "            columns_names = re.sub('\\s\\s+', ';', f.readline().strip()).lower().split(';')\n",
    "            columns_names = [re.sub(' ', '_', name.strip('.')) for name in columns_names]\n",
    "            f.readline()\n",
    "            lines = f.readlines()\n",
    "            lines = [re.sub('\\s\\s+', ';', line.strip()).split(';') for line in lines]\n",
    "            return name, vehicle_number, vehicle_capacity, columns_names, lines\n",
    "    \n",
    "    def _dist_from_to(self, client_i, client_j):\n",
    "        return np.linalg.norm(\n",
    "            self.df.loc[client_i, ['xcoord', 'ycoord']].values \n",
    "            - self.df.loc[client_j, ['xcoord', 'ycoord']].values\n",
    "        )\n",
    "    \n",
    "    def dist(self, client_i, client_j):\n",
    "        if client_i == client_j:\n",
    "            return 0.0\n",
    "        if client_i < client_j:\n",
    "            return self.distances[(client_j, client_i)]\n",
    "        else:\n",
    "            return self.distances[(client_i, client_j)]\n",
    "    \n",
    "    def _unload_and_move(i, j):\n",
    "        return self.arrival[i] + self.service[i] + self.dist(i, j)\n",
    "    \n",
    "    def _c1(self, u, i, j):\n",
    "        return self.dist(i, u) + self.dist(u, j) - self.dist(i, j)\n",
    "    \n",
    "    def _c2(self, u, i, j):\n",
    "        return self.closed[j] - (self._unload_and_move(i, j)) \\\n",
    "                - (self.closed[j] - (self.possible_arrival(u, i) + self.service[u] + self.dist(u, j)))\n",
    "    \n",
    "    def _c3(self, u, i, j):\n",
    "        return self.closed[u] - (self._unload_and_move(i, u))\n",
    "    \n",
    "    def _local_disturbance(self, u, i, j):\n",
    "        b1 = b2 = b3 = 1/3\n",
    "        c1 = self._c1(u, i, j)\n",
    "        c2 = self._c2(u, i, j)\n",
    "        c3 = self._c3(u, i, j)\n",
    "        return b1 * c1 + b2 * c2 + b3 * c3\n",
    "    \n",
    "    def _possible_arrival(self, u, i):\n",
    "        \"\"\"Time of arrival after possible insertion `u` after `i`\"\"\"\n",
    "        #TODO propagate time change till the depot\n",
    "        return np.max(self.arrival[i], self.opened[i]) + self.service[i] + self.dist(i, u)\n",
    "    \n",
    "    def _feasible_insertion(self, u, i, j):\n",
    "        #TODO check for feasibility\n",
    "    \n",
    "    def _global_disturbance(self, u, feasible_insertion_points):\n",
    "        local_disturbances = (self._local_disturbance(u, i, j) for i, j in feasible_insertion_points)\n",
    "        return np.sum(local_disturbances) / len(local_disturbances)\n",
    "    \n",
    "    def _accessability(self, u, feasible_insertion_points):\n",
    "        return 1 / self._global_disturbance(u, feasible_insertion_points)\n",
    "    \n",
    "    def _internal_impact(self, u, feasible_insertion_points):\n",
    "        pass\n",
    "    \n",
    "    def _own_impact(self, u, feasible_insertion_points):\n",
    "        return self.arrival[u] - self.opened[u]\n",
    "    \n",
    "    def _external_impact(self, u, feasible_insertion_points):\n",
    "        non_routed_points = self.current_cluster.query('index != @u')\n",
    "        return (1 / non_routed_points.shape[0]) * non_routed_points.apply(\n",
    "            lambda x: return np.max([\n",
    "            x.due_date[j]- x.ready_time[u] - self.dist(u, j),\n",
    "            x.due_date[u]- x.ready_time[j] - self.dist(u, j),\n",
    "        ])).sum()\n",
    "    \n",
    "    def _impact(self, u, possible_insertions):\n",
    "        bi = bo = be = 1/3\n",
    "        feasible_insertion_points = [(i, j) for i, j in zip(possible_insertions[:-1], possible_insertions[1:])\n",
    "                                     if self._feasible_insertion(u, i, j)]\n",
    "        weighted_internal_impact = bi * self._internal_impact(u, feasible_insertion_points)\n",
    "        weighted_own_impact = bo * self._own_impact(u, feasible_insertion_points)\n",
    "        weighted_external_impact = be * self._external_impact(u, feasible_insertion_points)\n",
    "        return weighted_internal_impact + weighted_own_impact + weighted_external_impact\n",
    "    \n",
    "    def _cost_function(self, route):\n",
    "        return np.sum(self.dist(client, route[i+1]) for i, client in enumerate(route[:-1]))\n",
    "        \n",
    "    def _check_vehicle_load(v, cap):\n",
    "        return v <= cap\n",
    "\n",
    "    def _check_route(r):\n",
    "        assert len(r) % 2 == 0, \"Route len is not even\"\n",
    "        if r[0] != 0:\n",
    "            print('Route doesn\\'t start at depot')\n",
    "        if r[-2] != 0:\n",
    "            print('Route doesn\\'t end in depot')\n",
    "        return r[0] == 0 and r[-2] == 0\n",
    "    \n",
    "    def _pick_seed_customer(candidates):\n",
    "        return np.random.choice(candidates.index)\n",
    "    \n",
    "    def get_initial_solution(self):        \n",
    "        for cluster_i in self.df.cluster.unique()\n",
    "            self.route.append(0)\n",
    "            self.current_cluster = self.df.query('cluster == @cluster_i and index != \"0\"')\n",
    "            seed = _pick_seed_customer(current_cluster)\n",
    "            self.route.append(seed)\n",
    "            self.current_cluster.query('index != @seed', inplace=True)\n",
    "            insertion_points = ((customer, route[i+1]) for i, customer in enumerate(self.route[:-1]))\n",
    "            \n",
    "            insertion_candidates_impact = [self._impact(candidate, insertion_points) \n",
    "                                           for candidate in current_cluster]\n",
    "            self.solution.append((route, start_serving[current_cluster.index]))\n",
    "            self.current_cluster = None\n",
    "            self.route = list()\n",
    "            self.start_serving = np.zeros(self.df.shape[0])\n",
    "        return len(self.solution), self.solution, total_dist\n",
    "        "
   ]
  },
  {
   "cell_type": "code",
   "execution_count": 33,
   "metadata": {},
   "outputs": [
    {
     "data": {
      "text/plain": [
       "93"
      ]
     },
     "execution_count": 33,
     "metadata": {},
     "output_type": "execute_result"
    }
   ],
   "source": []
  },
  {
   "cell_type": "code",
   "execution_count": 6,
   "metadata": {},
   "outputs": [],
   "source": [
    "import glob\n",
    "import scipy\n",
    "\n",
    "instances = glob.glob('./instances/*.txt')"
   ]
  },
  {
   "cell_type": "code",
   "execution_count": 7,
   "metadata": {},
   "outputs": [],
   "source": [
    "from sklearn.cluster import KMeans"
   ]
  },
  {
   "cell_type": "code",
   "execution_count": 15,
   "metadata": {},
   "outputs": [
    {
     "data": {
      "text/plain": [
       "KMeans(algorithm='auto', copy_x=True, init='k-means++', max_iter=300,\n",
       "    n_clusters=10, n_init=10, n_jobs=-1, precompute_distances='auto',\n",
       "    random_state=None, tol=0.0001, verbose=0)"
      ]
     },
     "execution_count": 15,
     "metadata": {},
     "output_type": "execute_result"
    }
   ],
   "source": [
    "kmc = KMeans(10, n_jobs=-1)\n",
    "coords = slv.df.loc[:, ['xcoord', 'ycoord']]\n",
    "kmc.fit(coords)\n"
   ]
  },
  {
   "cell_type": "code",
   "execution_count": 16,
   "metadata": {},
   "outputs": [],
   "source": [
    "clusters = kmc.predict(coords)"
   ]
  },
  {
   "cell_type": "code",
   "execution_count": 25,
   "metadata": {},
   "outputs": [
    {
     "data": {
      "text/plain": [
       "<matplotlib.axes._subplots.AxesSubplot at 0x2351948e400>"
      ]
     },
     "execution_count": 25,
     "metadata": {},
     "output_type": "execute_result"
    },
    {
     "data": {
      "image/png": "[encoded data removed]",
      "text/plain": [
       "<Figure size 432x288 with 2 Axes>"
      ]
     },
     "metadata": {},
     "output_type": "display_data"
    }
   ],
   "source": [
    "slv.df.plot.scatter(0, 1, c=clusters, colormap='tab20c_r')"
   ]
  },
  {
   "cell_type": "code",
   "execution_count": 11,
   "metadata": {},
   "outputs": [
    {
     "data": {
      "text/html": [
       "<div>\n",
       "<style scoped>\n",
       "    .dataframe tbody tr th:only-of-type {\n",
       "        vertical-align: middle;\n",
       "    }\n",
       "\n",
       "    .dataframe tbody tr th {\n",
       "        vertical-align: top;\n",
       "    }\n",
       "\n",
       "    .dataframe thead th {\n",
       "        text-align: right;\n",
       "    }\n",
       "</style>\n",
       "<table border=\"1\" class=\"dataframe\">\n",
       "  <thead>\n",
       "    <tr style=\"text-align: right;\">\n",
       "      <th></th>\n",
       "      <th>xcoord</th>\n",
       "      <th>ycoord</th>\n",
       "      <th>demand</th>\n",
       "      <th>ready_time</th>\n",
       "      <th>due_date</th>\n",
       "      <th>service_time</th>\n",
       "    </tr>\n",
       "    <tr>\n",
       "      <th>cust_no</th>\n",
       "      <th></th>\n",
       "      <th></th>\n",
       "      <th></th>\n",
       "      <th></th>\n",
       "      <th></th>\n",
       "      <th></th>\n",
       "    </tr>\n",
       "  </thead>\n",
       "  <tbody>\n",
       "    <tr>\n",
       "      <th>0</th>\n",
       "      <td>40</td>\n",
       "      <td>50</td>\n",
       "      <td>0</td>\n",
       "      <td>0</td>\n",
       "      <td>1236</td>\n",
       "      <td>0</td>\n",
       "    </tr>\n",
       "    <tr>\n",
       "      <th>20</th>\n",
       "      <td>30</td>\n",
       "      <td>50</td>\n",
       "      <td>10</td>\n",
       "      <td>10</td>\n",
       "      <td>265</td>\n",
       "      <td>90</td>\n",
       "    </tr>\n",
       "    <tr>\n",
       "      <th>67</th>\n",
       "      <td>47</td>\n",
       "      <td>40</td>\n",
       "      <td>10</td>\n",
       "      <td>12</td>\n",
       "      <td>275</td>\n",
       "      <td>90</td>\n",
       "    </tr>\n",
       "    <tr>\n",
       "      <th>65</th>\n",
       "      <td>48</td>\n",
       "      <td>40</td>\n",
       "      <td>10</td>\n",
       "      <td>12</td>\n",
       "      <td>223</td>\n",
       "      <td>90</td>\n",
       "    </tr>\n",
       "    <tr>\n",
       "      <th>5</th>\n",
       "      <td>42</td>\n",
       "      <td>65</td>\n",
       "      <td>10</td>\n",
       "      <td>15</td>\n",
       "      <td>226</td>\n",
       "      <td>90</td>\n",
       "    </tr>\n",
       "    <tr>\n",
       "      <th>24</th>\n",
       "      <td>25</td>\n",
       "      <td>50</td>\n",
       "      <td>10</td>\n",
       "      <td>15</td>\n",
       "      <td>333</td>\n",
       "      <td>90</td>\n",
       "    </tr>\n",
       "    <tr>\n",
       "      <th>3</th>\n",
       "      <td>42</td>\n",
       "      <td>66</td>\n",
       "      <td>10</td>\n",
       "      <td>16</td>\n",
       "      <td>336</td>\n",
       "      <td>90</td>\n",
       "    </tr>\n",
       "    <tr>\n",
       "      <th>43</th>\n",
       "      <td>33</td>\n",
       "      <td>35</td>\n",
       "      <td>10</td>\n",
       "      <td>16</td>\n",
       "      <td>273</td>\n",
       "      <td>90</td>\n",
       "    </tr>\n",
       "    <tr>\n",
       "      <th>42</th>\n",
       "      <td>33</td>\n",
       "      <td>32</td>\n",
       "      <td>20</td>\n",
       "      <td>19</td>\n",
       "      <td>345</td>\n",
       "      <td>90</td>\n",
       "    </tr>\n",
       "    <tr>\n",
       "      <th>90</th>\n",
       "      <td>60</td>\n",
       "      <td>55</td>\n",
       "      <td>10</td>\n",
       "      <td>20</td>\n",
       "      <td>276</td>\n",
       "      <td>90</td>\n",
       "    </tr>\n",
       "  </tbody>\n",
       "</table>\n",
       "</div>"
      ],
      "text/plain": [
       "         xcoord  ycoord  demand  ready_time  due_date  service_time\n",
       "cust_no                                                            \n",
       "0            40      50       0           0      1236             0\n",
       "20           30      50      10          10       265            90\n",
       "67           47      40      10          12       275            90\n",
       "65           48      40      10          12       223            90\n",
       "5            42      65      10          15       226            90\n",
       "24           25      50      10          15       333            90\n",
       "3            42      66      10          16       336            90\n",
       "43           33      35      10          16       273            90\n",
       "42           33      32      20          19       345            90\n",
       "90           60      55      10          20       276            90"
      ]
     },
     "execution_count": 11,
     "metadata": {},
     "output_type": "execute_result"
    }
   ],
   "source": [
    "slv.df.sort_values('ready_time').head(10)"
   ]
  },
  {
   "cell_type": "code",
   "execution_count": 28,
   "metadata": {},
   "outputs": [
    {
     "data": {
      "text/plain": [
       "cluster\n",
       "0    200\n",
       "1    190\n",
       "2    170\n",
       "3    180\n",
       "4    170\n",
       "5    200\n",
       "6    150\n",
       "7    190\n",
       "8    160\n",
       "9    200\n",
       "Name: demand, dtype: int32"
      ]
     },
     "execution_count": 28,
     "metadata": {},
     "output_type": "execute_result"
    }
   ],
   "source": [
    "slv.df['cluster'] = clusters\n",
    "slv.df.groupby('cluster').demand.sum()"
   ]
  },
  {
   "cell_type": "code",
   "execution_count": 27,
   "metadata": {},
   "outputs": [
    {
     "data": {
      "text/plain": [
       "'200'"
      ]
     },
     "execution_count": 27,
     "metadata": {},
     "output_type": "execute_result"
    }
   ],
   "source": [
    "slv.vehicle_capacity"
   ]
  },
  {
   "cell_type": "code",
   "execution_count": 161,
   "metadata": {},
   "outputs": [],
   "source": [
    "def check_solution(s):\n",
    "    pass"
   ]
  },
  {
   "cell_type": "code",
   "execution_count": null,
   "metadata": {},
   "outputs": [],
   "source": [
    "def iterated_local_search():\n",
    "    pass\n",
    "def guided_local_search():\n",
    "    pass"
   ]
  },
  {
   "cell_type": "code",
   "execution_count": null,
   "metadata": {},
   "outputs": [],
   "source": []
  },
  {
   "cell_type": "code",
   "execution_count": null,
   "metadata": {},
   "outputs": [],
   "source": []
  }
 ],
 "metadata": {
  "kernelspec": {
   "display_name": "Python 3",
   "language": "python",
   "name": "python3"
  },
  "language_info": {
   "codemirror_mode": {
    "name": "ipython",
    "version": 3
   },
   "file_extension": ".py",
   "mimetype": "text/x-python",
   "name": "python",
   "nbconvert_exporter": "python",
   "pygments_lexer": "ipython3",
   "version": "3.6.4"
  }
 },
 "nbformat": 4,
 "nbformat_minor": 2
}
