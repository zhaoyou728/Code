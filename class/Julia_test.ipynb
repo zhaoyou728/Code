{
 "cells": [
  {
   "cell_type": "code",
   "execution_count": 3,
   "metadata": {},
   "outputs": [
    {
     "name": "stdout",
     "output_type": "stream",
     "text": [
      "Max 5 x + 3 y\n",
      "Subject to\n",
      " x + 5 y <= 3\n",
      " 0 <= x <= 2\n",
      " 0 <= y <= 30\n",
      "Academic license - for non-commercial use only\r\n",
      "Optimize a model with 1 rows, 2 columns and 2 nonzeros\r\n",
      "Coefficient statistics:\r\n",
      "  Matrix range     [1e+00, 5e+00]\r\n",
      "  Objective range  [3e+00, 5e+00]\r\n",
      "  Bounds range     [2e+00, 3e+01]\r\n",
      "  RHS range        [3e+00, 3e+00]\r\n",
      "Presolve removed 1 rows and 2 columns\r\n",
      "Presolve time: 0.00s\r\n",
      "Presolve: All rows and columns removed\r\n",
      "Iteration    Objective       Primal Inf.    Dual Inf.      Time\r\n",
      "       0    1.0600000e+01   0.000000e+00   0.000000e+00      0s\r\n",
      "\r\n",
      "Solved in 0 iterations and 0.00 seconds\r\n",
      "Optimal objective  1.060000000e+01\r\n",
      "Objective value: 10"
     ]
    },
    {
     "name": "stderr",
     "output_type": "stream",
     "text": [
      "┌ Warning: Deprecated syntax `implicit assignment to global variable `#49###386``.\n",
      "│ Use `global #49###386` instead.\n",
      "└ @ nothing none:0\n",
      "┌ Warning: Deprecated syntax `implicit assignment to global variable `#51###387``.\n",
      "│ Use `global #51###387` instead.\n",
      "└ @ nothing none:0\n"
     ]
    },
    {
     "name": "stdout",
     "output_type": "stream",
     "text": [
      ".6\n",
      "x = 2.0\n",
      "y = 0.2\n"
     ]
    }
   ],
   "source": [
    "using JuMP, Gurobi\n",
    "m = Model(solver=GurobiSolver())\n",
    "\n",
    "@variable(m, 0 <= x <= 2 )\n",
    "@variable(m, 0 <= y <= 30 )\n",
    "\n",
    "@objective(m, Max, 5x + 3*y )\n",
    "\n",
    "@constraint(m, 1x + 5y <= 3.0 )\n",
    "\n",
    "print(m)\n",
    "\n",
    "status = solve(m)\n",
    "\n",
    "println(\"Objective value: \", getobjectivevalue(m))\n",
    "println(\"x = \", getvalue(x))\n",
    "println(\"y = \", getvalue(y))"
   ]
  },
  {
   "cell_type": "code",
   "execution_count": 38,
   "metadata": {},
   "outputs": [
    {
     "name": "stderr",
     "output_type": "stream",
     "text": [
      "┌ Warning: Deprecated syntax `implicit assignment to global variable `#340###507``.\n",
      "│ Use `global #340###507` instead.\n",
      "└ @ nothing none:0\n",
      "┌ Warning: Deprecated syntax `implicit assignment to global variable `#342###508``.\n",
      "│ Use `global #342###508` instead.\n",
      "└ @ nothing none:0\n",
      "┌ Warning: Deprecated syntax `implicit assignment to global variable `#344###509``.\n",
      "│ Use `global #344###509` instead.\n",
      "└ @ nothing none:0\n",
      "┌ Warning: Deprecated syntax `implicit assignment to global variable `#359###513``.\n",
      "│ Use `global #359###513` instead.\n",
      "└ @ nothing none:0\n",
      "┌ Warning: Deprecated syntax `implicit assignment to global variable `#371###518``.\n",
      "│ Use `global #371###518` instead.\n",
      "└ @ nothing none:0\n"
     ]
    },
    {
     "name": "stdout",
     "output_type": "stream",
     "text": [
      "Max x1 + 2 x2 + 5 x3\n",
      "Subject to\n",
      " -x1 + x2 + 3 x3 <= -5\n",
      " x1 + 3 x2 - 7 x3 <= 10\n",
      " 0 <= x1 <= 10\n",
      " x2, integer\n",
      " x3 in {0,1}\n",
      "Academic license - for non-commercial use only\n",
      "Optimize a model with 2 rows, 3 columns and 6 nonzeros\n",
      "Variable types: 1 continuous, 2 integer (1 binary)\n",
      "Coefficient statistics:\n",
      "  Matrix range     [1e+00, 7e+00]\n",
      "  Objective range  [1e+00, 5e+00]\n",
      "  Bounds range     [1e+00, 1e+01]\n",
      "  RHS range        [5e+00, 1e+01]\n",
      "Found heuristic solution: objective 19.0000000\n",
      "Presolve removed 2 rows and 3 columns\n",
      "Presolve time: 0.00s\n",
      "Presolve: All rows and columns removed\n",
      "\n",
      "Explored 0 nodes (0 simplex iterations) in 0.00 seconds\n",
      "Thread count was 1 (of 4 available processors)\n",
      "\n",
      "Solution count 1: 19 \n",
      "\n",
      "Optimal solution found (tolerance 1.00e-04)\n",
      "Best objective 1.900000000000e+01, best bound 1.900000000000e+01, gap 0.0000%\n",
      "optimal solutions:\n",
      "x1= 10.0\n",
      "x2= 2.0\n",
      "x3= 1.0\n",
      "dual variables:\n",
      "dual1= NaN\n",
      "dual2= NaN\n"
     ]
    },
    {
     "name": "stderr",
     "output_type": "stream",
     "text": [
      "┌ Warning: registerNLFunction is deprecated, use JuMP.register instead.\n",
      "│   caller = top-level scope at In[38]:31\n",
      "└ @ Core In[38]:31\n"
     ]
    },
    {
     "ename": "ErrorException",
     "evalue": "Function registration is now local to JuMP models. JuMP.register requires the model object as the first argument.",
     "output_type": "error",
     "traceback": [
      "Function registration is now local to JuMP models. JuMP.register requires the model object as the first argument.",
      "",
      "Stacktrace:",
      " [1] #register#172(::Bool, ::Function, ::Symbol, ::Int64, ::Function) at C:\\Users\\趙友\\.julia\\packages\\JuMP\\PbnIJ\\src\\nlp.jl:1403",
      " [2] (::getfield(JuMP, Symbol(\"#kw##register\")))(::NamedTuple{(:autodiff,),Tuple{Bool}}, ::typeof(JuMP.register), ::Symbol, ::Int64, ::Function) at .\\none:0",
      " [3] #registerNLFunction#218(::Bool, ::Function, ::Symbol, ::Vararg{Any,N} where N) at C:\\Users\\趙友\\.julia\\packages\\JuMP\\PbnIJ\\src\\deprecated.jl:87",
      " [4] registerNLFunction(::Symbol, ::Vararg{Any,N} where N) at C:\\Users\\趙友\\.julia\\packages\\JuMP\\PbnIJ\\src\\deprecated.jl:86",
      " [5] top-level scope at In[38]:31"
     ]
    }
   ],
   "source": [
    "using JuMP,Gurobi\n",
    "\n",
    "m=Model(solver=GurobiSolver())\n",
    "@variable(m,0<=x1<=10)\n",
    "@variable(m,x2,Int)\n",
    "@variable(m,x3,Bin)\n",
    "\n",
    "@objective(m,Max,x1 + 2x2 + 5x3)\n",
    "\n",
    "@constraint(m,constraint1,-x1 + x2 + 3x3 <=-5)\n",
    "@constraint(m,constraint2,x1 + 3x2 - 7x3 <=10)\n",
    "\n",
    "print(m)\n",
    "solve(m)\n",
    "\n",
    "println(\"optimal solutions:\")\n",
    "println(\"x1= \",getvalue(x1))\n",
    "println(\"x2= \",getvalue(x2))\n",
    "println(\"x3= \",getvalue(x3))\n",
    "\n",
    "println(\"dual variables:\")\n",
    "println(\"dual1= \",getdual(constraint1))\n",
    "println(\"dual2= \",getdual(constraint2))\n"
   ]
  },
  {
   "cell_type": "code",
   "execution_count": 23,
   "metadata": {},
   "outputs": [
    {
     "name": "stderr",
     "output_type": "stream",
     "text": [
      "WARNING: Base.now is deprecated: it has been moved to the standard library package `Dates`.\n",
      "Add `using Dates` to your imports.\n",
      "  likely near C:\\Users\\趙友\\.julia\\packages\\IJulia\\fjEtl\\src\\kernel.jl:41\n",
      "WARNING: Base.now is deprecated: it has been moved to the standard library package `Dates`.\n",
      "Add `using Dates` to your imports.\n",
      "  likely near C:\\Users\\趙友\\.julia\\packages\\IJulia\\fjEtl\\src\\kernel.jl:41\n",
      "WARNING: Base.now is deprecated: it has been moved to the standard library package `Dates`.\n",
      "Add `using Dates` to your imports.\n",
      "  likely near C:\\Users\\趙友\\.julia\\packages\\IJulia\\fjEtl\\src\\kernel.jl:41\n",
      "in #9 at none\n"
     ]
    },
    {
     "ename": "UndefVarError",
     "evalue": "UndefVarError: Date not defined",
     "output_type": "error",
     "traceback": [
      "UndefVarError: Date not defined",
      "",
      "Stacktrace:",
      " [1] (::getfield(Main, Symbol(\"##9#10\")))(::Int64) at .\\none:0",
      " [2] iterate at .\\generator.jl:47 [inlined]",
      " [3] collect(::Base.Generator{Array{Int64,1},getfield(Main, Symbol(\"##9#10\"))}) at .\\array.jl:619",
      " [4] top-level scope at In[23]:4"
     ]
    }
   ],
   "source": [
    "using PyPlot\n",
    "clf();\n",
    "close();\n",
    "x = [Date(now()) + Dates.Day(i) for i in collect(1:100)] \n",
    "y = rand(100) \n",
    "PyPlot.plot(x,y, color=\"red\", linewidth=2.0, linestyle=\"-\") "
   ]
  },
  {
   "cell_type": "code",
   "execution_count": 33,
   "metadata": {},
   "outputs": [
    {
     "data": {
      "text/plain": [
       "3.172974693966915"
      ]
     },
     "execution_count": 33,
     "metadata": {},
     "output_type": "execute_result"
    }
   ],
   "source": [
    "using Flux.Tracker\n",
    "f(x) = 3x^2 + 2x + 1\n",
    "f_g(x) = Tracker.gradient(f,x)[1]\n",
    "f_gg(x)= Tracker.gradient(f_g,x)[1]\n",
    "f_gg(1)\n",
    "W= rand(2,5)\n",
    "b= rand(2)\n",
    "predict(x)=W*x.+b\n",
    "function loss(x,y)\n",
    "    y_hat=predict(x)\n",
    "    sum((y .- y_hat).^2)\n",
    "end\n",
    "\n",
    "x,y=rand(5),rand(2)\n",
    "\n",
    "loss(x,y)"
   ]
  },
  {
   "cell_type": "code",
   "execution_count": 39,
   "metadata": {},
   "outputs": [
    {
     "ename": "ArgumentError",
     "evalue": "ArgumentError: Package JuMp not found in current path:\n- Run `Pkg.add(\"JuMp\")` to install the JuMp package.\n",
     "output_type": "error",
     "traceback": [
      "ArgumentError: Package JuMp not found in current path:\n- Run `Pkg.add(\"JuMp\")` to install the JuMp package.\n",
      "",
      "Stacktrace:",
      " [1] require(::Module, ::Symbol) at .\\loading.jl:817",
      " [2] top-level scope at In[39]:1"
     ]
    }
   ],
   "source": [
    "using JuMp\n",
    "function squareroot(x)\n",
    "    z=x\n",
    "    while abs(z^2 -x )>1e-13\n",
    "        z=z- (z^2 -x)/(2z)\n",
    "    end\n",
    "    return z\n",
    "end\n",
    "registerNLFunction(:squareroot,1,squareroot)"
   ]
  },
  {
   "cell_type": "code",
   "execution_count": 47,
   "metadata": {},
   "outputs": [
    {
     "name": "stderr",
     "output_type": "stream",
     "text": [
      "WARNING: Base.gradient is deprecated: it has been moved to the standard library package `LinearAlgebra`.\n",
      "Add `using LinearAlgebra` to your imports.\n",
      "  likely near C:\\Users\\趙友\\.julia\\packages\\IJulia\\fjEtl\\src\\kernel.jl:41\n",
      "┌ Warning: `using A.B` will only be allowed for modules, not single bindings. Use `using A: B` instead\n",
      "│   caller = ip:0x0\n",
      "└ @ Core :-1\n"
     ]
    },
    {
     "ename": "MethodError",
     "evalue": "MethodError: no method matching gradient(::typeof(f))\nYou may have intended to import Base.gradient\nClosest candidates are:\n  gradient(::Any, !Matched::StaticArrays.SArray) at C:\\Users\\趙友\\.julia\\packages\\ForwardDiff\\okZnq\\src\\gradient.jl:42\n  gradient(::Any, !Matched::StaticArrays.SArray, !Matched::ForwardDiff.GradientConfig) at C:\\Users\\趙友\\.julia\\packages\\ForwardDiff\\okZnq\\src\\gradient.jl:43\n  gradient(::Any, !Matched::StaticArrays.SArray, !Matched::ForwardDiff.GradientConfig, !Matched::Val) at C:\\Users\\趙友\\.julia\\packages\\ForwardDiff\\okZnq\\src\\gradient.jl:44\n  ...",
     "output_type": "error",
     "traceback": [
      "MethodError: no method matching gradient(::typeof(f))\nYou may have intended to import Base.gradient\nClosest candidates are:\n  gradient(::Any, !Matched::StaticArrays.SArray) at C:\\Users\\趙友\\.julia\\packages\\ForwardDiff\\okZnq\\src\\gradient.jl:42\n  gradient(::Any, !Matched::StaticArrays.SArray, !Matched::ForwardDiff.GradientConfig) at C:\\Users\\趙友\\.julia\\packages\\ForwardDiff\\okZnq\\src\\gradient.jl:43\n  gradient(::Any, !Matched::StaticArrays.SArray, !Matched::ForwardDiff.GradientConfig, !Matched::Val) at C:\\Users\\趙友\\.julia\\packages\\ForwardDiff\\okZnq\\src\\gradient.jl:44\n  ...",
      "",
      "Stacktrace:",
      " [1] top-level scope at In[47]:6"
     ]
    },
    {
     "name": "stderr",
     "output_type": "stream",
     "text": [
      "WARNING: Base.gradient is deprecated: it has been moved to the standard library package `LinearAlgebra`.\n",
      "Add `using LinearAlgebra` to your imports.\n",
      "  likely near C:\\Users\\趙友\\.julia\\packages\\IJulia\\fjEtl\\src\\kernel.jl:41\n"
     ]
    }
   ],
   "source": [
    "using ForwardDiff\n",
    "using LinearAlgebra\n",
    "using Base.gradient\n",
    "f(x) = sum(sin, x) + prod(tan, x) * sum(sqrt, x);\n",
    "x=rand(5)\n",
    "g=ForwardDiff.gradient(f);\n",
    "g(x)"
   ]
  }
 ],
 "metadata": {
  "kernelspec": {
   "display_name": "Julia 0.7.0",
   "language": "julia",
   "name": "julia-0.7"
  },
  "language_info": {
   "file_extension": ".jl",
   "mimetype": "application/julia",
   "name": "julia",
   "version": "0.7.0"
  }
 },
 "nbformat": 4,
 "nbformat_minor": 2
}
