{
 "cells": [
  {
   "cell_type": "markdown",
   "metadata": {},
   "source": [
    "# Optimization: principles and algorithms"
   ]
  },
  {
   "cell_type": "markdown",
   "metadata": {},
   "source": [
    "Bierlaire, M. (2015). *Optimization: Principles and Algorithms.* EPFL Press.<br>\n",
    "The numbering of the algorithms, tables and page refer to the book."
   ]
  },
  {
   "cell_type": "markdown",
   "metadata": {},
   "source": [
    "## Chapter 7: Newton's method"
   ]
  },
  {
   "cell_type": "markdown",
   "metadata": {},
   "source": [
    "### Algorithm 7.1: Machine epsilon (p. 184)"
   ]
  },
  {
   "cell_type": "markdown",
   "metadata": {},
   "source": [
    "Objective: find the machine epsilon"
   ]
  },
  {
   "cell_type": "code",
   "execution_count": 4,
   "metadata": {},
   "outputs": [],
   "source": [
    "def machineEpsilon():\n",
    "    eps = 1.0\n",
    "    while eps + 1.0 != 1.0:\n",
    "        eps /= 2.0\n",
    "    return eps"
   ]
  },
  {
   "cell_type": "code",
   "execution_count": 5,
   "metadata": {},
   "outputs": [
    {
     "name": "stdout",
     "output_type": "stream",
     "text": [
      "Machine epsilon: 1.1102230246251565e-16\n"
     ]
    }
   ],
   "source": [
    "eps = machineEpsilon()\n",
    "print(\"Machine epsilon: {}\".format(eps))"
   ]
  },
  {
   "cell_type": "markdown",
   "metadata": {},
   "source": [
    "### Algorithm 7.2: Newton's method: one variable"
   ]
  },
  {
   "cell_type": "code",
   "execution_count": 6,
   "metadata": {},
   "outputs": [],
   "source": [
    "# The function obj return a tuple containing the value of the function and its derivative\n",
    "def newtonOneVariable(obj,x0,eps,maxiter=100):\n",
    "    xk = x0\n",
    "    (f,g) = obj(xk)\n",
    "    k = 0\n",
    "    iters = list()\n",
    "    iters.append([k,xk,f,g])\n",
    "    while abs(f) > eps and k < maxiter:\n",
    "        xk = xk - f / g\n",
    "        (f,g) = obj(xk)\n",
    "        k += 1\n",
    "        iters.append([k,xk,f,g])\n",
    "    return (xk,iters)"
   ]
  },
  {
   "cell_type": "markdown",
   "metadata": {},
   "source": [
    "Example: $F(x)=x^2-2$"
   ]
  },
  {
   "cell_type": "code",
   "execution_count": 7,
   "metadata": {},
   "outputs": [],
   "source": [
    "def ex0703(x):\n",
    "    f = x * x - 2.0\n",
    "    g = 2.0 * x\n",
    "    return (f,g)"
   ]
  },
  {
   "cell_type": "markdown",
   "metadata": {},
   "source": [
    "Run the example with $x_0=2$ and $\\varepsilon=10^{-15}$."
   ]
  },
  {
   "cell_type": "code",
   "execution_count": 8,
   "metadata": {},
   "outputs": [
    {
     "name": "stdout",
     "output_type": "stream",
     "text": [
      "x= 1.4142135623730951 F(x)=4.440892098500626e-16\n"
     ]
    }
   ],
   "source": [
    "(root,iters) = newtonOneVariable(ex0703,2.0,1.0e-15)\n",
    "print(\"x= {} F(x)={}\".format(root,ex0703(root)[0]))    \n",
    "    \n",
    "    "
   ]
  },
  {
   "cell_type": "markdown",
   "metadata": {},
   "source": [
    "Table 7.1 page 186"
   ]
  },
  {
   "cell_type": "code",
   "execution_count": 9,
   "metadata": {},
   "outputs": [
    {
     "name": "stdout",
     "output_type": "stream",
     "text": [
      "k\txk\t\tF(xk)\t\tF'(xk)\n",
      "0\t+2.000000E+00\t+2.000000E+00\t+4.000000E+00\n",
      "1\t+1.500000E+00\t+2.500000E-01\t+3.000000E+00\n",
      "2\t+1.416667E+00\t+6.944444E-03\t+2.833333E+00\n",
      "3\t+1.414216E+00\t+6.007305E-06\t+2.828431E+00\n",
      "4\t+1.414214E+00\t+4.510614E-12\t+2.828427E+00\n",
      "5\t+1.414214E+00\t+4.440892E-16\t+2.828427E+00\n"
     ]
    }
   ],
   "source": [
    "print(\"k\\txk\\t\\tF(xk)\\t\\tF'(xk)\")\n",
    "for k in iters:\n",
    "    print(\"{0}\\t{1:+E}\\t{2:+E}\\t{3:+E}\".format(*k))"
   ]
  },
  {
   "cell_type": "markdown",
   "metadata": {},
   "source": [
    "We plot the value of the function as the iterations progress, excluding the starting point"
   ]
  },
  {
   "cell_type": "code",
   "execution_count": 10,
   "metadata": {},
   "outputs": [
    {
     "data": {
      "image/png": "[encoded data removed]",
      "text/plain": [
       "<matplotlib.figure.Figure at 0x237a58ff710>"
      ]
     },
     "metadata": {},
     "output_type": "display_data"
    }
   ],
   "source": [
    "import numpy as np\n",
    "import matplotlib.pyplot as plt\n",
    "%matplotlib inline\n",
    "table= np.array(iters)\n",
    "plt.xlabel(\"Iteration\")\n",
    "plt.ylabel(\"F(x)\")\n",
    "plt.plot(table[1:,2])\n",
    "plt.show()"
   ]
  },
  {
   "cell_type": "markdown",
   "metadata": {},
   "source": [
    "Another example: $F(x)=x-\\sin(x)$"
   ]
  },
  {
   "cell_type": "code",
   "execution_count": 11,
   "metadata": {},
   "outputs": [],
   "source": [
    "import numpy as np\n",
    "def ex0704(x):\n",
    "    f = x - np.sin(x)\n",
    "    g = 1 - np.cos(x)\n",
    "    return (f,g)"
   ]
  },
  {
   "cell_type": "markdown",
   "metadata": {},
   "source": [
    "Run the example with $x_0=1$ and $\\varepsilon=10^{-15}$."
   ]
  },
  {
   "cell_type": "code",
   "execution_count": 12,
   "metadata": {},
   "outputs": [
    {
     "name": "stdout",
     "output_type": "stream",
     "text": [
      "x= 1.7074311939194665e-05 F(x)=8.296179498587519e-16\n"
     ]
    }
   ],
   "source": [
    "(root,iters) = newtonOneVariable(ex0704,1.0,1.0e-15)\n",
    "print(\"x= {} F(x)={}\".format(root,ex0704(root)[0]))"
   ]
  },
  {
   "cell_type": "markdown",
   "metadata": {},
   "source": [
    "Table 7.2, p. 187. "
   ]
  },
  {
   "cell_type": "code",
   "execution_count": 13,
   "metadata": {},
   "outputs": [
    {
     "name": "stdout",
     "output_type": "stream",
     "text": [
      "k\txk\t\tF(xk)\t\tF'(xk)\n",
      "0\t+1.000000E+00\t+1.585290E-01\t+4.596977E-01\n",
      "1\t+6.551451E-01\t+4.587079E-02\t+2.070405E-01\n",
      "2\t+4.335904E-01\t+1.345874E-02\t+9.253683E-02\n",
      "3\t+2.881484E-01\t+3.970948E-03\t+4.122830E-02\n",
      "4\t+1.918323E-01\t+1.174397E-03\t+1.834346E-02\n",
      "5\t+1.278097E-01\t+3.476843E-04\t+8.156543E-03\n",
      "6\t+8.518323E-02\t+1.029802E-04\t+3.625898E-03\n",
      "7\t+5.678195E-02\t+3.050772E-05\t+1.611662E-03\n",
      "8\t+3.785260E-02\t+9.038676E-06\t+7.163242E-04\n",
      "9\t+2.523446E-02\t+2.678041E-06\t+3.183722E-04\n",
      "10\t+1.682280E-02\t+7.934824E-07\t+1.414999E-04\n",
      "11\t+1.121515E-02\t+2.351044E-07\t+6.288909E-05\n",
      "12\t+7.476748E-03\t+6.966037E-08\t+2.795075E-05\n",
      "13\t+4.984494E-03\t+2.064008E-08\t+1.242256E-05\n",
      "14\t+3.322995E-03\t+6.115577E-09\t+5.521142E-06\n",
      "15\t+2.215329E-03\t+1.812022E-09\t+2.453841E-06\n",
      "16\t+1.476886E-03\t+5.368955E-10\t+1.090596E-06\n",
      "17\t+9.845907E-04\t+1.590801E-10\t+4.847094E-07\n",
      "18\t+6.563938E-04\t+4.713485E-11\t+2.154264E-07\n",
      "19\t+4.375959E-04\t+1.396588E-11\t+9.574507E-08\n",
      "20\t+2.917306E-04\t+4.138039E-12\t+4.255336E-08\n",
      "21\t+1.944870E-04\t+1.226086E-12\t+1.891261E-08\n",
      "22\t+1.296580E-04\t+3.632846E-13\t+8.405603E-09\n",
      "23\t+8.643869E-05\t+1.076399E-13\t+3.735824E-09\n",
      "24\t+5.762579E-05\t+3.189330E-14\t+1.660366E-09\n",
      "25\t+3.841720E-05\t+9.449865E-15\t+7.379405E-10\n",
      "26\t+2.561147E-05\t+2.799962E-15\t+3.279736E-10\n",
      "27\t+1.707431E-05\t+8.296179E-16\t+1.457661E-10\n"
     ]
    }
   ],
   "source": [
    "print(\"k\\txk\\t\\tF(xk)\\t\\tF'(xk)\")\n",
    "for k in iters:\n",
    "    print(\"{0}\\t{1:+E}\\t{2:+E}\\t{3:+E}\".format(*k))"
   ]
  },
  {
   "cell_type": "markdown",
   "metadata": {},
   "source": [
    "We plot the value of the function as the iterations progress, excluding the starting point"
   ]
  },
  {
   "cell_type": "code",
   "execution_count": 15,
   "metadata": {},
   "outputs": [
    {
     "data": {
      "image/png": "[encoded data removed]",
      "text/plain": [
       "<matplotlib.figure.Figure at 0x237a66664e0>"
      ]
     },
     "metadata": {},
     "output_type": "display_data"
    }
   ],
   "source": [
    "table = np.array(iters)\n",
    "plt.xlabel(\"Iteration\")\n",
    "plt.ylabel(\"F(x)\")\n",
    "plt.plot(table[1:,2])\n",
    "plt.show()"
   ]
  },
  {
   "cell_type": "markdown",
   "metadata": {},
   "source": [
    "Another example: $F(x)=\\arctan(x)$"
   ]
  },
  {
   "cell_type": "code",
   "execution_count": 16,
   "metadata": {},
   "outputs": [],
   "source": [
    "def ex0705(x):\n",
    "    f = np.arctan(x)\n",
    "    g = 1.0 / (1.0 + x * x)\n",
    "    return (f,g)"
   ]
  },
  {
   "cell_type": "markdown",
   "metadata": {},
   "source": [
    "Run the example with $x_0=1.5$ and $\\varepsilon=10^{-15}$. We set `maxiter` to 10, as the algorithm is not converging."
   ]
  },
  {
   "cell_type": "code",
   "execution_count": 17,
   "metadata": {},
   "outputs": [
    {
     "name": "stdout",
     "output_type": "stream",
     "text": [
      "x= 2.4539946374984955e+108 F(x)=1.5707963267948966\n"
     ]
    }
   ],
   "source": [
    "(root,iters) = newtonOneVariable(ex0705,1.5,1.0e-15,maxiter=10)\n",
    "print(\"x= {} F(x)={}\".format(root,ex0705(root)[0]))"
   ]
  },
  {
   "cell_type": "markdown",
   "metadata": {},
   "source": [
    "Table 7.3, page 188."
   ]
  },
  {
   "cell_type": "code",
   "execution_count": 19,
   "metadata": {},
   "outputs": [
    {
     "name": "stdout",
     "output_type": "stream",
     "text": [
      "k\txk\t\tF(xk)\t\tF'(xk)\n",
      "0\t+1.500000E+00\t+9.827937E-01\t+3.076923E-01\n",
      "1\t-1.694080E+00\t-1.037546E+00\t+2.584042E-01\n",
      "2\t+2.321127E+00\t+1.164002E+00\t+1.565526E-01\n",
      "3\t-5.114088E+00\t-1.377695E+00\t+3.682713E-02\n",
      "4\t+3.229568E+01\t+1.539842E+00\t+9.578441E-04\n",
      "5\t-1.575317E+03\t-1.570162E+00\t+4.029619E-07\n",
      "6\t+3.894976E+06\t+1.570796E+00\t+6.591594E-14\n",
      "7\t-2.383029E+13\t-1.570796E+00\t+1.760927E-27\n",
      "8\t+8.920280E+26\t+1.570796E+00\t+1.256733E-54\n",
      "9\t-1.249905E+54\t-1.570796E+00\t+6.400977E-109\n",
      "10\t+2.453995E+108\t+1.570796E+00\t+1.660553E-217\n"
     ]
    }
   ],
   "source": [
    "print(\"k\\txk\\t\\tF(xk)\\t\\tF'(xk)\")\n",
    "for k in iters:\n",
    "    print(\"{0}\\t{1:+E}\\t{2:+E}\\t{3:+E}\".format(*k))"
   ]
  },
  {
   "cell_type": "markdown",
   "metadata": {},
   "source": [
    "Plot the iterations, excluding the starting point. We observe the oscillations."
   ]
  },
  {
   "cell_type": "code",
   "execution_count": 20,
   "metadata": {},
   "outputs": [
    {
     "data": {
      "image/png": "[encoded data removed]",
      "text/plain": [
       "<matplotlib.figure.Figure at 0x237a65fc160>"
      ]
     },
     "metadata": {},
     "output_type": "display_data"
    }
   ],
   "source": [
    "table = np.array(iters)\n",
    "plt.xlabel(\"Iteration\")\n",
    "plt.ylabel(\"F(x)\")\n",
    "plt.plot(table[1:,2])\n",
    "plt.show()"
   ]
  },
  {
   "cell_type": "markdown",
   "metadata": {},
   "source": [
    "### Algorithm 7.3: Newton's method: $n$ variables"
   ]
  },
  {
   "cell_type": "code",
   "execution_count": 16,
   "metadata": {},
   "outputs": [],
   "source": [
    "# The function f return a tuple containing the vector with the values of the functions \n",
    "# and its Jacobian in numpy array format\n",
    "from scipy import linalg\n",
    "def newtonNVariables(obj,x0,eps,maxiter=100):\n",
    "    xk = x0\n",
    "    (f,J) = obj(xk)\n",
    "    k = 0\n",
    "    iters = list()\n",
    "    iters.append([k,xk,f,J])\n",
    "    while linalg.norm(f) > eps and k < maxiter:\n",
    "        # We need to enforce the column vector shape\n",
    "        d = linalg.solve(J,-f).reshape(2,1)\n",
    "        xk = xk + d\n",
    "        (f,J) = obj(xk)\n",
    "        k += 1\n",
    "        iters.append([k,xk,f,J])\n",
    "    return (xk,iters)"
   ]
  },
  {
   "cell_type": "markdown",
   "metadata": {},
   "source": [
    "Example: $F(x)=\\left(\\begin{array}{c}(x_1+1)^2+ x_2^2 - 2 \\\\ e^{x_1} + x_2^3 - 2 \\end{array}\\right)$"
   ]
  },
  {
   "cell_type": "code",
   "execution_count": 17,
   "metadata": {},
   "outputs": [],
   "source": [
    "# Note that the indices of array start at 0, not 1.\n",
    "def ex0711(x):\n",
    "    f1 = (x.item(0) + 1) * (x.item(0) + 1) + x.item(1) * x.item(1) - 2\n",
    "    f2 = np.exp(x.item(0)) + x.item(1) * x.item(1) * x.item(1) - 2\n",
    "    # Note the double brackets, as the vector must be a matrix with one column\n",
    "    f = np.array([[f1],[f2]])\n",
    "    J11 = 2 * (x.item(0) + 1)\n",
    "    J12 = 2 * x.item(1)\n",
    "    J21 = np.exp(x.item(0))\n",
    "    J22 = 3 * x.item(1) * x.item(1)\n",
    "    J = np.array([ [ J11, J12 ],[J21 ,J22 ]])\n",
    "    return (f,J)"
   ]
  },
  {
   "cell_type": "markdown",
   "metadata": {},
   "source": [
    "Run the example with $x_0= \\left(\\begin{array}{c} 1 \\\\ 1 \\end{array}\\right)$ and $\\varepsilon = 10^{-15}$"
   ]
  },
  {
   "cell_type": "code",
   "execution_count": 18,
   "metadata": {},
   "outputs": [
    {
     "name": "stdout",
     "output_type": "stream",
     "text": [
      "x= (-6.463024030322668e-17,1.0000000000000002) F(x)=(0.0,4.440892098500626e-16)\n"
     ]
    }
   ],
   "source": [
    "# The .T represents transpose, to obtain a column vector. Note the double brackets syntax to emphasize \n",
    "# that it is a matrix with only one column\n",
    "x = np.array([[1,1]]).T\n",
    "(root,iters) = newtonNVariables(ex0711,x,1.0e-15)\n",
    "# Value at the solution\n",
    "f = ex0711(root)[0]\n",
    "print(\"x= ({},{}) F(x)=({},{})\".format(root.item(0),root.item(1),f.item(0),f.item(1)))\n"
   ]
  },
  {
   "cell_type": "markdown",
   "metadata": {},
   "source": [
    "Table 7.4, page 195."
   ]
  },
  {
   "cell_type": "code",
   "execution_count": 19,
   "metadata": {},
   "outputs": [
    {
     "name": "stdout",
     "output_type": "stream",
     "text": [
      "k\txk\t\tF(xk)\t\t||F(xk)||\n",
      "0\t+1.000000E+00\t+3.000000E+00\t+3.457238E+00\n",
      "  \t+1.000000E+00\t+1.718282E+00\n",
      "1\t+1.523592E-01\t+7.566298E-01\t+1.154709E+00\n",
      "  \t+1.195282E+00\t+8.722749E-01\n",
      "2\t-1.083768E-02\t+5.196844E-02\t+1.140426E-01\n",
      "  \t+1.036111E+00\t+1.015135E-01\n",
      "3\t-8.896646E-04\t+1.294452E-03\t+3.942330E-03\n",
      "  \t+1.001535E+00\t+3.723756E-03\n",
      "4\t-1.370089E-06\t+3.137249E-06\t+8.079986E-06\n",
      "  \t+1.000003E+00\t+7.446062E-06\n",
      "5\t-5.538412E-12\t+1.051292E-11\t+2.883112E-11\n",
      "  \t+1.000000E+00\t+2.684608E-11\n",
      "6\t-6.463024E-17\t+0.000000E+00\t+4.440892E-16\n",
      "  \t+1.000000E+00\t+4.440892E-16\n"
     ]
    }
   ],
   "source": [
    "print(\"k\\txk\\t\\tF(xk)\\t\\t||F(xk)||\")\n",
    "for k in range(len(iters)):\n",
    "    print(\"{}\\t{:+E}\\t{:+E}\\t{:+E}\".format(iters[k][0],iters[k][1].item(0),iters[k][2].item(0),linalg.norm(iters[k][2])))\n",
    "    print(\"  \\t{:+E}\\t{:+E}\".format(iters[k][1].item(1),iters[k][2].item(1)))\n",
    "    "
   ]
  },
  {
   "cell_type": "markdown",
   "metadata": {},
   "source": [
    "We plot the evolution of the norm of the function with the iterations."
   ]
  },
  {
   "cell_type": "code",
   "execution_count": 20,
   "metadata": {},
   "outputs": [
    {
     "data": {
      "image/png": "[encoded data removed]",
      "text/plain": [
       "<Figure size 432x288 with 1 Axes>"
      ]
     },
     "metadata": {},
     "output_type": "display_data"
    }
   ],
   "source": [
    "norm = [linalg.norm(iters[k][2]) for k in range(len(iters))]\n",
    "plt.xlabel(\"Iteration\")\n",
    "plt.ylabel(\"||F(x)||\")\n",
    "plt.plot(norm)\n",
    "plt.show()"
   ]
  },
  {
   "cell_type": "markdown",
   "metadata": {},
   "source": [
    "Example: $F(x)=\\left(\\begin{array}{c}x_1^3 - 3 x_1 x_2^2 -1 \\\\ x_2^3 - 3x_1^2 x_2\\end{array}\\right)$"
   ]
  },
  {
   "cell_type": "code",
   "execution_count": 21,
   "metadata": {},
   "outputs": [],
   "source": [
    "# Note that the indices of array start at 0, not 1.\n",
    "def ex0712(x):\n",
    "    # Note the double brackets, as the vector must be a matrix with one column\n",
    "    f = np.array([[x.item(0)**3 - 3 * x.item(0) * x.item(1)**2  - 1.0],[x.item(1)**3 - 3 * x.item(0)**2 * x.item(1)]])\n",
    "    J = np.array([ [ 3 * x.item(0)**2 - 3 * x.item(1)**2, -6 * x.item(0) * x.item(1) ],[-6 *x.item(0) * x.item(1) ,3* x.item(1)**2 - 3 * x.item(0)**2]])\n",
    "    return (f,J)"
   ]
  },
  {
   "cell_type": "markdown",
   "metadata": {},
   "source": [
    "Run the example with $x_0= \\left(\\begin{array}{c} 1 \\\\ 1 \\end{array}\\right)$ and $\\varepsilon = 10^{-15}$"
   ]
  },
  {
   "cell_type": "code",
   "execution_count": 22,
   "metadata": {},
   "outputs": [
    {
     "name": "stdout",
     "output_type": "stream",
     "text": [
      "x= (1.0,4.930380657631324e-31) F(x)=(0.0,-1.4791141972893971e-30)\n"
     ]
    }
   ],
   "source": [
    "# The .T represents transpose, to obtain a column vector. Note the double brackets syntax to emphasize \n",
    "# that it is a matrix with only one column\n",
    "x = np.array([[1,1]]).T\n",
    "(root,iters) = newtonNVariables(ex0712,x,1.0e-15)\n",
    "# Valur at the solution\n",
    "f = ex0712(root)[0]\n",
    "print(\"x= ({},{}) F(x)=({},{})\".format(root.item(0),root.item(1),f.item(0),f.item(1)))"
   ]
  },
  {
   "cell_type": "markdown",
   "metadata": {},
   "source": [
    "Run the example with $x_0= \\left(\\begin{array}{c} -1 \\\\ -1 \\end{array}\\right)$ and $\\varepsilon = 10^{-15}$"
   ]
  },
  {
   "cell_type": "code",
   "execution_count": 4,
   "metadata": {},
   "outputs": [
    {
     "ename": "NameError",
     "evalue": "name 'np' is not defined",
     "output_type": "error",
     "traceback": [
      "\u001b[1;31m---------------------------------------------------------------------------\u001b[0m",
      "\u001b[1;31mNameError\u001b[0m                                 Traceback (most recent call last)",
      "\u001b[1;32m<ipython-input-4-b2b91310ca9f>\u001b[0m in \u001b[0;36m<module>\u001b[1;34m()\u001b[0m\n\u001b[0;32m      1\u001b[0m \u001b[1;31m# The .T represents transpose, to obtain a column vector. Note the double brackets syntax to emphasize\u001b[0m\u001b[1;33m\u001b[0m\u001b[1;33m\u001b[0m\u001b[0m\n\u001b[0;32m      2\u001b[0m \u001b[1;31m# that it is a matrix with only one column\u001b[0m\u001b[1;33m\u001b[0m\u001b[1;33m\u001b[0m\u001b[0m\n\u001b[1;32m----> 3\u001b[1;33m \u001b[0mx\u001b[0m \u001b[1;33m=\u001b[0m \u001b[0mnp\u001b[0m\u001b[1;33m.\u001b[0m\u001b[0marray\u001b[0m\u001b[1;33m(\u001b[0m\u001b[1;33m[\u001b[0m\u001b[1;33m[\u001b[0m\u001b[1;33m-\u001b[0m\u001b[1;36m1\u001b[0m\u001b[1;33m,\u001b[0m\u001b[1;33m-\u001b[0m\u001b[1;36m1\u001b[0m\u001b[1;33m]\u001b[0m\u001b[1;33m]\u001b[0m\u001b[1;33m)\u001b[0m\u001b[1;33m.\u001b[0m\u001b[0mT\u001b[0m\u001b[1;33m\u001b[0m\u001b[0m\n\u001b[0m\u001b[0;32m      4\u001b[0m \u001b[1;33m(\u001b[0m\u001b[0mroot\u001b[0m\u001b[1;33m,\u001b[0m\u001b[0miters\u001b[0m\u001b[1;33m)\u001b[0m \u001b[1;33m=\u001b[0m \u001b[0mnewtonNVariables\u001b[0m\u001b[1;33m(\u001b[0m\u001b[0mex0712\u001b[0m\u001b[1;33m,\u001b[0m\u001b[0mx\u001b[0m\u001b[1;33m,\u001b[0m\u001b[1;36m1.0e-15\u001b[0m\u001b[1;33m)\u001b[0m\u001b[1;33m\u001b[0m\u001b[0m\n\u001b[0;32m      5\u001b[0m \u001b[1;31m# Valur at the solution\u001b[0m\u001b[1;33m\u001b[0m\u001b[1;33m\u001b[0m\u001b[0m\n",
      "\u001b[1;31mNameError\u001b[0m: name 'np' is not defined"
     ]
    }
   ],
   "source": [
    "# The .T represents transpose, to obtain a column vector. Note the double brackets syntax to emphasize \n",
    "# that it is a matrix with only one column\n",
    "x = np.array([[-1,-1]]).T\n",
    "(root,iters) = newtonNVariables(ex0712,x,1.0e-15)\n",
    "# Valur at the solution\n",
    "f = ex0712(root)[0]\n",
    "print(\"x= ({},{}) F(x)=({},{})\".format(root.item(0),root.item(1),f.item(0),f.item(1)))"
   ]
  },
  {
   "cell_type": "markdown",
   "metadata": {},
   "source": [
    "Run the example with $x_0= \\left(\\begin{array}{c} 0 \\\\ 1 \\end{array}\\right)$ and $\\varepsilon = 10^{-15}$\n"
   ]
  },
  {
   "cell_type": "code",
   "execution_count": 21,
   "metadata": {},
   "outputs": [
    {
     "ename": "NameError",
     "evalue": "name 'newtonNVariables' is not defined",
     "output_type": "error",
     "traceback": [
      "\u001b[1;31m---------------------------------------------------------------------------\u001b[0m",
      "\u001b[1;31mNameError\u001b[0m                                 Traceback (most recent call last)",
      "\u001b[1;32m<ipython-input-21-ababe110dc4c>\u001b[0m in \u001b[0;36m<module>\u001b[1;34m()\u001b[0m\n\u001b[0;32m      2\u001b[0m \u001b[1;31m# that it is a matrix with only one column\u001b[0m\u001b[1;33m\u001b[0m\u001b[1;33m\u001b[0m\u001b[0m\n\u001b[0;32m      3\u001b[0m \u001b[0mx\u001b[0m \u001b[1;33m=\u001b[0m \u001b[0mnp\u001b[0m\u001b[1;33m.\u001b[0m\u001b[0marray\u001b[0m\u001b[1;33m(\u001b[0m\u001b[1;33m[\u001b[0m\u001b[1;33m[\u001b[0m\u001b[1;36m0\u001b[0m\u001b[1;33m,\u001b[0m\u001b[1;36m1\u001b[0m\u001b[1;33m]\u001b[0m\u001b[1;33m]\u001b[0m\u001b[1;33m)\u001b[0m\u001b[1;33m.\u001b[0m\u001b[0mT\u001b[0m\u001b[1;33m\u001b[0m\u001b[0m\n\u001b[1;32m----> 4\u001b[1;33m \u001b[1;33m(\u001b[0m\u001b[0mroot\u001b[0m\u001b[1;33m,\u001b[0m\u001b[0miters\u001b[0m\u001b[1;33m)\u001b[0m \u001b[1;33m=\u001b[0m \u001b[0mnewtonNVariables\u001b[0m\u001b[1;33m(\u001b[0m\u001b[0mex0712\u001b[0m\u001b[1;33m,\u001b[0m\u001b[0mx\u001b[0m\u001b[1;33m,\u001b[0m\u001b[1;36m1.0e-15\u001b[0m\u001b[1;33m)\u001b[0m\u001b[1;33m\u001b[0m\u001b[0m\n\u001b[0m\u001b[0;32m      5\u001b[0m \u001b[1;31m# Valur at the solution\u001b[0m\u001b[1;33m\u001b[0m\u001b[1;33m\u001b[0m\u001b[0m\n\u001b[0;32m      6\u001b[0m \u001b[0mf\u001b[0m \u001b[1;33m=\u001b[0m \u001b[0mex0712\u001b[0m\u001b[1;33m(\u001b[0m\u001b[0mroot\u001b[0m\u001b[1;33m)\u001b[0m\u001b[1;33m[\u001b[0m\u001b[1;36m0\u001b[0m\u001b[1;33m]\u001b[0m\u001b[1;33m\u001b[0m\u001b[0m\n",
      "\u001b[1;31mNameError\u001b[0m: name 'newtonNVariables' is not defined"
     ]
    }
   ],
   "source": [
    "# The .T represents transpose, to obtain a column vector. Note the double brackets syntax to emphasize \n",
    "# that it is a matrix with only one column\n",
    "x = np.array([[0,1]]).T\n",
    "(root,iters) = newtonNVariables(ex0712,x,1.0e-15)\n",
    "# Valur at the solution\n",
    "f = ex0712(root)[0]\n",
    "print(\"x= ({},{}) F(x)=({},{})\".format(root.item(0),root.item(1),f.item(0),f.item(1)))"
   ]
  }
 ],
 "metadata": {
  "kernelspec": {
   "display_name": "Python 3",
   "language": "python",
   "name": "python3"
  },
  "language_info": {
   "codemirror_mode": {
    "name": "ipython",
    "version": 3
   },
   "file_extension": ".py",
   "mimetype": "text/x-python",
   "name": "python",
   "nbconvert_exporter": "python",
   "pygments_lexer": "ipython3",
   "version": "3.6.4"
  }
 },
 "nbformat": 4,
 "nbformat_minor": 2
}
