{
 "cells": [
  {
   "cell_type": "markdown",
   "metadata": {},
   "source": [
    "# Optimization: principles and algorithms"
   ]
  },
  {
   "cell_type": "markdown",
   "metadata": {},
   "source": [
    "Bierlaire, M. (2015). *Optimization: Principles and Algorithms.* EPFL Press"
   ]
  },
  {
   "cell_type": "markdown",
   "metadata": {},
   "source": [
    "## Chapter 8: Quasi-Newton methods"
   ]
  },
  {
   "cell_type": "markdown",
   "metadata": {},
   "source": [
    "### Algorithm 8.1: Finite difference Newton's method: one variable"
   ]
  },
  {
   "cell_type": "code",
   "execution_count": 6,
   "metadata": {},
   "outputs": [],
   "source": [
    "def newtonFinDiffOneVariable(obj,x0,eps,tau,maxiter = 100):\n",
    "    xk = x0\n",
    "    # The function returns both f and g. Here, we need only f, so the [0] index.\n",
    "    f = obj(xk)[0]\n",
    "    k = 0\n",
    "    iters = list()\n",
    "    iters.append([k,xk,f])\n",
    "    while abs(f) > eps and k < maxiter:\n",
    "        if (abs(xk)>= 1): \n",
    "            s = tau * xk\n",
    "        else:\n",
    "            s = tau\n",
    "        fs = obj(xk+s)[0]\n",
    "        xk = xk - s * f / (fs - f)\n",
    "        f = obj(xk)[0]\n",
    "        k += 1\n",
    "        iters.append([k,xk,f])\n",
    "    return(xk,iters)"
   ]
  },
  {
   "cell_type": "markdown",
   "metadata": {},
   "source": [
    "Example: $F(x)=x^2-2$"
   ]
  },
  {
   "cell_type": "code",
   "execution_count": 2,
   "metadata": {},
   "outputs": [],
   "source": [
    "def ex0703(x):\n",
    "    f = x * x - 2.0\n",
    "    g = 2.0 * x\n",
    "    return (f,g)"
   ]
  },
  {
   "cell_type": "markdown",
   "metadata": {},
   "source": [
    "Run the example with $x_0=2$ and $\\tau=10^{-7}$"
   ]
  },
  {
   "cell_type": "code",
   "execution_count": 11,
   "metadata": {},
   "outputs": [
    {
     "ename": "NameError",
     "evalue": "name 'ex0703' is not defined",
     "output_type": "error",
     "traceback": [
      "\u001b[1;31m---------------------------------------------------------------------------\u001b[0m",
      "\u001b[1;31mNameError\u001b[0m                                 Traceback (most recent call last)",
      "\u001b[1;32m<ipython-input-11-73d02be92904>\u001b[0m in \u001b[0;36m<module>\u001b[1;34m()\u001b[0m\n\u001b[0;32m      1\u001b[0m \u001b[0mtau\u001b[0m \u001b[1;33m=\u001b[0m \u001b[1;36m1.0e-7\u001b[0m\u001b[1;33m\u001b[0m\u001b[0m\n\u001b[1;32m----> 2\u001b[1;33m \u001b[1;33m(\u001b[0m\u001b[0mroot\u001b[0m\u001b[1;33m,\u001b[0m\u001b[0miters\u001b[0m\u001b[1;33m)\u001b[0m \u001b[1;33m=\u001b[0m \u001b[0mnewtonFinDiffOneVariable\u001b[0m\u001b[1;33m(\u001b[0m\u001b[0mex0703\u001b[0m\u001b[1;33m,\u001b[0m\u001b[1;36m2.0\u001b[0m\u001b[1;33m,\u001b[0m\u001b[1;36m1.0e-15\u001b[0m\u001b[1;33m,\u001b[0m\u001b[0mtau\u001b[0m\u001b[1;33m)\u001b[0m\u001b[1;33m\u001b[0m\u001b[0m\n\u001b[0m\u001b[0;32m      3\u001b[0m \u001b[0mprint\u001b[0m\u001b[1;33m(\u001b[0m\u001b[1;34m\"x= {} F(x)={}\"\u001b[0m\u001b[1;33m.\u001b[0m\u001b[0mformat\u001b[0m\u001b[1;33m(\u001b[0m\u001b[0mroot\u001b[0m\u001b[1;33m,\u001b[0m\u001b[0mex0703\u001b[0m\u001b[1;33m(\u001b[0m\u001b[0mroot\u001b[0m\u001b[1;33m)\u001b[0m\u001b[1;33m)\u001b[0m\u001b[1;33m)\u001b[0m\u001b[1;33m\u001b[0m\u001b[0m\n",
      "\u001b[1;31mNameError\u001b[0m: name 'ex0703' is not defined"
     ]
    }
   ],
   "source": [
    "tau = 1.0e-7\n",
    "(root,iters) = newtonFinDiffOneVariable(ex0703,2.0,1.0e-15,tau)\n",
    "print(\"x= {} F(x)={}\".format(root,ex0703(root)))"
   ]
  },
  {
   "cell_type": "markdown",
   "metadata": {},
   "source": [
    "Table 8.1, page 204"
   ]
  },
  {
   "cell_type": "code",
   "execution_count": 12,
   "metadata": {},
   "outputs": [
    {
     "name": "stdout",
     "output_type": "stream",
     "text": [
      "k\txk\t\tF(xk)\n"
     ]
    },
    {
     "ename": "NameError",
     "evalue": "name 'iters' is not defined",
     "output_type": "error",
     "traceback": [
      "\u001b[1;31m---------------------------------------------------------------------------\u001b[0m",
      "\u001b[1;31mNameError\u001b[0m                                 Traceback (most recent call last)",
      "\u001b[1;32m<ipython-input-12-86035aa29962>\u001b[0m in \u001b[0;36m<module>\u001b[1;34m()\u001b[0m\n\u001b[0;32m      1\u001b[0m \u001b[0mprint\u001b[0m\u001b[1;33m(\u001b[0m\u001b[1;34m\"k\\txk\\t\\tF(xk)\"\u001b[0m\u001b[1;33m)\u001b[0m\u001b[1;33m\u001b[0m\u001b[0m\n\u001b[1;32m----> 2\u001b[1;33m \u001b[1;32mfor\u001b[0m \u001b[0mk\u001b[0m \u001b[1;32min\u001b[0m \u001b[0miters\u001b[0m\u001b[1;33m:\u001b[0m\u001b[1;33m\u001b[0m\u001b[0m\n\u001b[0m\u001b[0;32m      3\u001b[0m     \u001b[0mprint\u001b[0m\u001b[1;33m(\u001b[0m\u001b[1;34m\"{0}\\t{1:+E}\\t{2:+E}\"\u001b[0m\u001b[1;33m.\u001b[0m\u001b[0mformat\u001b[0m\u001b[1;33m(\u001b[0m\u001b[1;33m*\u001b[0m\u001b[0mk\u001b[0m\u001b[1;33m)\u001b[0m\u001b[1;33m)\u001b[0m\u001b[1;33m\u001b[0m\u001b[0m\n",
      "\u001b[1;31mNameError\u001b[0m: name 'iters' is not defined"
     ]
    }
   ],
   "source": [
    "print(\"k\\txk\\t\\tF(xk)\")\n",
    "for k in iters:\n",
    "    print(\"{0}\\t{1:+E}\\t{2:+E}\".format(*k))"
   ]
  },
  {
   "cell_type": "code",
   "execution_count": 5,
   "metadata": {},
   "outputs": [
    {
     "data": {
      "image/png": "[encoded data removed]",
      "text/plain": [
       "<Figure size 432x288 with 1 Axes>"
      ]
     },
     "metadata": {},
     "output_type": "display_data"
    }
   ],
   "source": [
    "import numpy as np\n",
    "import matplotlib.pyplot as plt\n",
    "%matplotlib inline\n",
    "table= np.array(iters)\n",
    "plt.xlabel(\"Iteration\")\n",
    "plt.ylabel(\"F(x)\")\n",
    "plt.plot(table[1:,2])\n",
    "plt.show()"
   ]
  },
  {
   "cell_type": "markdown",
   "metadata": {},
   "source": [
    "Run the example with $x_0=2$ and $\\tau=0.1$"
   ]
  },
  {
   "cell_type": "code",
   "execution_count": 6,
   "metadata": {},
   "outputs": [
    {
     "name": "stdout",
     "output_type": "stream",
     "text": [
      "x= 1.4142135623730951 F(x)=(4.440892098500626e-16, 2.8284271247461903)\n"
     ]
    }
   ],
   "source": [
    "tau = 0.1\n",
    "(root,iters) = newtonFinDiffOneVariable(ex0703,2.0,1.0e-15,tau)\n",
    "print(\"x= {} F(x)={}\".format(root,ex0703(root)))"
   ]
  },
  {
   "cell_type": "markdown",
   "metadata": {},
   "source": [
    "Table 8.2, page 205"
   ]
  },
  {
   "cell_type": "code",
   "execution_count": 7,
   "metadata": {},
   "outputs": [
    {
     "name": "stdout",
     "output_type": "stream",
     "text": [
      "k\txk\t\tF(xk)\n",
      "0\t+2.000000E+00\t+2.000000E+00\n",
      "1\t+1.523810E+00\t+3.219955E-01\n",
      "2\t+1.423186E+00\t+2.545822E-02\n",
      "3\t+1.414668E+00\t+1.284856E-03\n",
      "4\t+1.414235E+00\t+6.137066E-05\n",
      "5\t+1.414215E+00\t+2.922839E-06\n",
      "6\t+1.414214E+00\t+1.391838E-07\n",
      "7\t+1.414214E+00\t+6.627802E-09\n",
      "8\t+1.414214E+00\t+3.156098E-10\n",
      "9\t+1.414214E+00\t+1.502842E-11\n",
      "10\t+1.414214E+00\t+7.154277E-13\n",
      "11\t+1.414214E+00\t+3.419487E-14\n",
      "12\t+1.414214E+00\t+1.332268E-15\n",
      "13\t+1.414214E+00\t+4.440892E-16\n"
     ]
    }
   ],
   "source": [
    "print(\"k\\txk\\t\\tF(xk)\")\n",
    "for k in iters:\n",
    "    print(\"{0}\\t{1:+E}\\t{2:+E}\".format(*k))"
   ]
  },
  {
   "cell_type": "code",
   "execution_count": 8,
   "metadata": {},
   "outputs": [
    {
     "data": {
      "image/png": "[encoded data removed]",
      "text/plain": [
       "<Figure size 432x288 with 1 Axes>"
      ]
     },
     "metadata": {},
     "output_type": "display_data"
    }
   ],
   "source": [
    "table= np.array(iters)\n",
    "plt.xlabel(\"Iteration\")\n",
    "plt.ylabel(\"F(x)\")\n",
    "plt.plot(table[1:,2])\n",
    "plt.show()"
   ]
  },
  {
   "cell_type": "markdown",
   "metadata": {},
   "source": [
    "### Algorithm 8.2: Secant method: one variable\n"
   ]
  },
  {
   "cell_type": "code",
   "execution_count": 9,
   "metadata": {},
   "outputs": [],
   "source": [
    "def secantOneVariable(obj,x0,a0,eps,maxiter=100):\n",
    "    xk = x0\n",
    "    ak = a0\n",
    "    f = obj(xk)[0]\n",
    "    k = 0\n",
    "    iters = list()\n",
    "    iters.append([k,xk,f,ak])\n",
    "    while abs(f) > eps and k < maxiter:\n",
    "        xold = xk\n",
    "        xk = xk - f / ak\n",
    "        fold = f\n",
    "        f = obj(xk)[0]\n",
    "        ak = (fold - f) / (xold - xk)\n",
    "        k += 1\n",
    "        iters.append([k,xk,f,ak])\n",
    "    return(xk,iters)"
   ]
  },
  {
   "cell_type": "markdown",
   "metadata": {},
   "source": [
    "Example: $F(x)=x^2-2$, with $x_0=2$ and $a_0=1$"
   ]
  },
  {
   "cell_type": "code",
   "execution_count": 10,
   "metadata": {},
   "outputs": [
    {
     "name": "stdout",
     "output_type": "stream",
     "text": [
      "x= 1.4142135623730954 F(x)=(8.881784197001252e-16, 2.8284271247461907)\n"
     ]
    }
   ],
   "source": [
    "x0 = 2\n",
    "a0 = 1\n",
    "(root,iters) = secantOneVariable(ex0703,x0,a0,1.0e-15)\n",
    "print(\"x= {} F(x)={}\".format(root,ex0703(root)))"
   ]
  },
  {
   "cell_type": "markdown",
   "metadata": {},
   "source": [
    "Table 8.3, page 207"
   ]
  },
  {
   "cell_type": "code",
   "execution_count": 11,
   "metadata": {},
   "outputs": [
    {
     "name": "stdout",
     "output_type": "stream",
     "text": [
      "k\txk\t\tF(xk)\t\tak\n",
      "0\t+2.000000E+00\t+2.000000E+00\t+1.000000E+00\n",
      "1\t+0.000000E+00\t-2.000000E+00\t+2.000000E+00\n",
      "2\t+1.000000E+00\t-1.000000E+00\t+1.000000E+00\n",
      "3\t+2.000000E+00\t+2.000000E+00\t+3.000000E+00\n",
      "4\t+1.333333E+00\t-2.222222E-01\t+3.333333E+00\n",
      "5\t+1.400000E+00\t-4.000000E-02\t+2.733333E+00\n",
      "6\t+1.414634E+00\t+1.189768E-03\t+2.814634E+00\n",
      "7\t+1.414211E+00\t-6.007287E-06\t+2.828846E+00\n",
      "8\t+1.414214E+00\t-8.931456E-10\t+2.828425E+00\n",
      "9\t+1.414214E+00\t+8.881784E-16\t+2.828427E+00\n"
     ]
    }
   ],
   "source": [
    "print(\"k\\txk\\t\\tF(xk)\\t\\tak\")\n",
    "for k in iters:\n",
    "    print(\"{0}\\t{1:+E}\\t{2:+E}\\t{3:+E}\".format(*k))"
   ]
  },
  {
   "cell_type": "code",
   "execution_count": 12,
   "metadata": {},
   "outputs": [
    {
     "data": {
      "image/png": "[encoded data removed]",
      "text/plain": [
       "<Figure size 432x288 with 1 Axes>"
      ]
     },
     "metadata": {},
     "output_type": "display_data"
    }
   ],
   "source": [
    "table= np.array(iters)\n",
    "plt.xlabel(\"Iteration\")\n",
    "plt.ylabel(\"F(x)\")\n",
    "plt.plot(table[1:,2])\n",
    "plt.show()"
   ]
  },
  {
   "cell_type": "markdown",
   "metadata": {},
   "source": [
    "### Algorithm 8.3: finite difference Newton's method: $n$ variables"
   ]
  },
  {
   "cell_type": "code",
   "execution_count": 13,
   "metadata": {},
   "outputs": [],
   "source": [
    "import numpy as np\n",
    "from scipy import linalg\n",
    "def newtonFinDiffNVariables(obj,x0,tau,eps,maxiter=100):\n",
    "    n = len(x0)\n",
    "    xk = x0\n",
    "    f = obj(xk)[0]\n",
    "    k = 0\n",
    "    iters = list()\n",
    "    iters.append([k,xk,f])\n",
    "    I = np.eye(n,n)\n",
    "    while linalg.norm(f) > eps and k < maxiter:\n",
    "        A = np.empty([n,n])\n",
    "        for col in range(n):\n",
    "            xi = xk.item(col)\n",
    "            if (abs(xi) >= 1):\n",
    "                s = tau * xi\n",
    "            elif xi >= 0:\n",
    "                s = tau\n",
    "            else:\n",
    "                s = -tau\n",
    "            ei = I[col].reshape(n,1)\n",
    "            fp = obj(xk + s * ei)[0]\n",
    "            A[:,col:col+1] = (fp - f) / s\n",
    "        # We need to enforce the column vector shape\n",
    "        d = linalg.solve(A,-f).reshape(2,1)\n",
    "        xk = xk + d\n",
    "        f = obj(xk)[0]\n",
    "        k += 1\n",
    "        iters.append([k,xk,f])\n",
    "    return (xk,iters)"
   ]
  },
  {
   "cell_type": "markdown",
   "metadata": {},
   "source": [
    "Example: $F(x)=\\left(\\begin{array}{c}(x_1+1)^2+ x_2^2 - 2 \\\\ e^{x_1} + x_2^3 - 2 \\end{array}\\right)$"
   ]
  },
  {
   "cell_type": "code",
   "execution_count": 14,
   "metadata": {},
   "outputs": [],
   "source": [
    "# Note that the indices of array start at 0, not 1.\n",
    "def ex0711(x):\n",
    "    f1 = (x.item(0) + 1) * (x.item(0) + 1) + x.item(1) * x.item(1) - 2\n",
    "    f2 = np.exp(x.item(0)) + x.item(1) * x.item(1) * x.item(1) - 2\n",
    "    # Note the double brackets, as the vector must be a matrix with one column\n",
    "    f = np.array([[f1],[f2]])\n",
    "    J11 = 2 * (x.item(0) + 1)\n",
    "    J12 = 2 * x.item(1)\n",
    "    J21 = np.exp(x.item(0))\n",
    "    J22 = 3 * x.item(1) * x.item(1)\n",
    "    J = np.array([ [ J11, J12 ],[J21 ,J22 ]])\n",
    "    return (f,J)"
   ]
  },
  {
   "cell_type": "markdown",
   "metadata": {},
   "source": [
    "Run the example with $x_0= \\left(\\begin{array}{c} 1 \\\\ 1 \\end{array}\\right)$ and $\\tau=10^{-7}$"
   ]
  },
  {
   "cell_type": "code",
   "execution_count": 15,
   "metadata": {},
   "outputs": [
    {
     "name": "stdout",
     "output_type": "stream",
     "text": [
      "x= (-1.1083349994011326e-16,1.0000000000000002) F(x)=(0.0,4.440892098500626e-16)\n"
     ]
    }
   ],
   "source": [
    "# The .T represents transpose, to obtain a column vector. Note the double brackets syntax to emphasize \n",
    "# that it is a matrix with only one column\n",
    "x0 = np.array([[1,1]]).T\n",
    "tau = 1.0e-7\n",
    "(root,iters) = newtonFinDiffNVariables(ex0711,x0,tau,1.0e-15)\n",
    "# Value at the solution\n",
    "f = ex0711(root)[0]\n",
    "print(\"x= ({},{}) F(x)=({},{})\".format(root.item(0),root.item(1),f.item(0),f.item(1)))"
   ]
  },
  {
   "cell_type": "markdown",
   "metadata": {},
   "source": [
    "Table 8.4, page 209"
   ]
  },
  {
   "cell_type": "code",
   "execution_count": 16,
   "metadata": {},
   "outputs": [
    {
     "name": "stdout",
     "output_type": "stream",
     "text": [
      "k\txk\t\tF(xk)\t\t||F(xk)||\n",
      "0\t+1.000000E+00\t+3.000000E+00\t+3.457238E+00\n",
      "  \t+1.000000E+00\t+1.718282E+00\n",
      "1\t+1.523592E-01\t+7.566298E-01\t+1.154709E+00\n",
      "  \t+1.195282E+00\t+8.722750E-01\n",
      "2\t-1.083769E-02\t+5.196848E-02\t+1.140426E-01\n",
      "  \t+1.036111E+00\t+1.015135E-01\n",
      "3\t-8.896678E-04\t+1.294458E-03\t+3.942346E-03\n",
      "  \t+1.001535E+00\t+3.723771E-03\n",
      "4\t-1.370169E-06\t+3.137520E-06\t+8.080614E-06\n",
      "  \t+1.000003E+00\t+7.446629E-06\n",
      "5\t-5.688116E-12\t+1.094103E-11\t+2.986392E-11\n",
      "  \t+1.000000E+00\t+2.778755E-11\n",
      "6\t-1.108335E-16\t+0.000000E+00\t+4.440892E-16\n",
      "  \t+1.000000E+00\t+4.440892E-16\n"
     ]
    }
   ],
   "source": [
    "print(\"k\\txk\\t\\tF(xk)\\t\\t||F(xk)||\")\n",
    "for k in range(len(iters)):\n",
    "    print(\"{}\\t{:+E}\\t{:+E}\\t{:+E}\".format(iters[k][0],iters[k][1].item(0),iters[k][2].item(0),linalg.norm(iters[k][2])))\n",
    "    print(\"  \\t{:+E}\\t{:+E}\".format(iters[k][1].item(1),iters[k][2].item(1)))"
   ]
  },
  {
   "cell_type": "code",
   "execution_count": 17,
   "metadata": {},
   "outputs": [
    {
     "data": {
      "image/png": "[encoded data removed]",
      "text/plain": [
       "<Figure size 432x288 with 1 Axes>"
      ]
     },
     "metadata": {},
     "output_type": "display_data"
    }
   ],
   "source": [
    "norm = [linalg.norm(iters[k][2]) for k in range(len(iters))]\n",
    "plt.xlabel(\"Iteration\")\n",
    "plt.ylabel(\"||F(x)||\")\n",
    "plt.plot(norm)\n",
    "plt.show()"
   ]
  },
  {
   "cell_type": "markdown",
   "metadata": {},
   "source": [
    "Run the example with $x_0= \\left(\\begin{array}{c} 1 \\\\ 1 \\end{array}\\right)$ and $\\tau=0.1$"
   ]
  },
  {
   "cell_type": "code",
   "execution_count": 18,
   "metadata": {},
   "outputs": [
    {
     "name": "stdout",
     "output_type": "stream",
     "text": [
      "x= (6.238580618425054e-18,1.0) F(x)=(0.0,0.0)\n"
     ]
    }
   ],
   "source": [
    "# The .T represents transpose, to obtain a column vector. Note the double brackets syntax to emphasize \n",
    "# that it is a matrix with only one column\n",
    "x0 = np.array([[1,1]]).T\n",
    "tau = 0.1\n",
    "(root,iters) = newtonFinDiffNVariables(ex0711,x0,tau,1.0e-15)\n",
    "# Value at the solution\n",
    "f = ex0711(root)[0]\n",
    "print(\"x= ({},{}) F(x)=({},{})\".format(root.item(0),root.item(1),f.item(0),f.item(1)))"
   ]
  },
  {
   "cell_type": "markdown",
   "metadata": {},
   "source": [
    "Table 8.5, page 210"
   ]
  },
  {
   "cell_type": "code",
   "execution_count": 19,
   "metadata": {},
   "outputs": [
    {
     "name": "stdout",
     "output_type": "stream",
     "text": [
      "k\txk\t\tF(xk)\t\t||F(xk)||\n",
      "0\t+1.000000E+00\t+3.000000E+00\t+3.457238E+00\n",
      "  \t+1.000000E+00\t+1.718282E+00\n",
      "1\t+1.646297E-01\t+8.021033E-01\t+1.218528E+00\n",
      "  \t+1.202390E+00\t+9.173006E-01\n",
      "2\t-1.457411E-02\t+8.859858E-02\t+1.889729E-01\n",
      "  \t+1.057135E+00\t+1.669163E-01\n",
      "3\t-5.723563E-03\t+8.214593E-03\t+2.525362E-02\n",
      "  \t+1.009767E+00\t+2.388024E-02\n",
      "4\t-4.768964E-04\t+1.488248E-03\t+3.518427E-03\n",
      "  \t+1.001220E+00\t+3.188173E-03\n",
      "5\t-6.650782E-05\t+1.503511E-04\t+3.888142E-04\n",
      "  \t+1.000142E+00\t+3.585680E-04\n",
      "6\t-7.022846E-06\t+1.850894E-05\t+4.572319E-05\n",
      "  \t+1.000016E+00\t+4.180944E-05\n",
      "7\t-8.386496E-07\t+2.059562E-06\t+5.192563E-06\n",
      "  \t+1.000002E+00\t+4.766646E-06\n",
      "8\t-9.451126E-08\t+2.398182E-07\t+5.988650E-07\n",
      "  \t+1.000000E+00\t+5.487499E-07\n",
      "9\t-1.093846E-08\t+2.733859E-08\t+6.857038E-08\n",
      "  \t+1.000000E+00\t+6.288481E-08\n",
      "10\t-1.250423E-09\t+3.147179E-09\t+7.877591E-09\n",
      "  \t+1.000000E+00\t+7.221614E-09\n",
      "11\t-1.437612E-10\t+3.606582E-10\t+9.036054E-10\n",
      "  \t+1.000000E+00\t+8.285097E-10\n",
      "12\t-1.648439E-11\t+4.141754E-11\t+1.037231E-10\n",
      "  \t+1.000000E+00\t+9.509504E-11\n",
      "13\t-1.892553E-12\t+4.751755E-12\t+1.190227E-11\n",
      "  \t+1.000000E+00\t+1.091260E-11\n",
      "14\t-2.172200E-13\t+5.453415E-13\t+1.365918E-12\n",
      "  \t+1.000000E+00\t+1.252332E-12\n",
      "15\t-2.498150E-14\t+6.217249E-14\t+1.563352E-13\n",
      "  \t+1.000000E+00\t+1.434408E-13\n",
      "16\t-2.738665E-15\t+7.105427E-15\t+1.790181E-14\n",
      "  \t+1.000000E+00\t+1.643130E-14\n",
      "17\t-1.779971E-16\t+8.881784E-16\t+1.986027E-15\n",
      "  \t+1.000000E+00\t+1.776357E-15\n",
      "18\t+6.238581E-18\t+0.000000E+00\t+0.000000E+00\n",
      "  \t+1.000000E+00\t+0.000000E+00\n"
     ]
    }
   ],
   "source": [
    "print(\"k\\txk\\t\\tF(xk)\\t\\t||F(xk)||\")\n",
    "for k in range(len(iters)):\n",
    "    print(\"{}\\t{:+E}\\t{:+E}\\t{:+E}\".format(iters[k][0],iters[k][1].item(0),iters[k][2].item(0),linalg.norm(iters[k][2])))\n",
    "    print(\"  \\t{:+E}\\t{:+E}\".format(iters[k][1].item(1),iters[k][2].item(1)))"
   ]
  },
  {
   "cell_type": "code",
   "execution_count": 20,
   "metadata": {},
   "outputs": [
    {
     "data": {
      "image/png": "[encoded data removed]",
      "text/plain": [
       "<Figure size 432x288 with 1 Axes>"
      ]
     },
     "metadata": {},
     "output_type": "display_data"
    }
   ],
   "source": [
    "norm = [linalg.norm(iters[k][2]) for k in range(len(iters))]\n",
    "plt.xlabel(\"Iteration\")\n",
    "plt.ylabel(\"||F(x)||\")\n",
    "plt.plot(norm)\n",
    "plt.show()"
   ]
  },
  {
   "cell_type": "markdown",
   "metadata": {},
   "source": [
    "### Algorithm 8.4: secant method: $n$ variables"
   ]
  },
  {
   "cell_type": "code",
   "execution_count": 21,
   "metadata": {},
   "outputs": [],
   "source": [
    "def secantNVariables(obj,x0,eps,maxiter=100):\n",
    "    n = len(x0)\n",
    "    xk = x0\n",
    "    f = obj(xk)[0]\n",
    "    k = 0\n",
    "    A = np.eye(n,n)\n",
    "    iters = list()\n",
    "    iters.append([k,xk,f,A])\n",
    "    while linalg.norm(f) > eps and k < maxiter:\n",
    "        xold = xk\n",
    "        d = linalg.solve(A,-f).reshape(2,1)\n",
    "        xk = xk + d\n",
    "        fold = f\n",
    "        f = obj(xk)[0]\n",
    "        y = f-fold\n",
    "        update = np.outer(y - A.dot(d), d ) / np.inner(d[:,0],d[:,0])\n",
    "        A = np.add(A,update)\n",
    "        k += 1\n",
    "        iters.append([k,xk,f,A])\n",
    "    return (xk,iters)\n",
    "   "
   ]
  },
  {
   "cell_type": "markdown",
   "metadata": {},
   "source": [
    "Example 7.11: $F(x)=\\left(\\begin{array}{c}(x_1+1)^2+ x_2^2 - 2 \\\\ e^{x_1} + x_2^3 - 2 \\end{array}\\right)$, $x_0=\\left(\\begin{array}{c} 1 \\\\ 1 \\end{array}\\right)$\n"
   ]
  },
  {
   "cell_type": "code",
   "execution_count": 22,
   "metadata": {},
   "outputs": [
    {
     "name": "stdout",
     "output_type": "stream",
     "text": [
      "x= (-1.7137474114864424,1.220886822189675) F(x)=(-2.220446049250313e-16,0.0)\n"
     ]
    }
   ],
   "source": [
    "# The .T represents transpose, to obtain a column vector. Note the double brackets syntax to emphasize \n",
    "# that it is a matrix with only one column\n",
    "x0 = np.array([[1,1]]).T\n",
    "(root,iters) = secantNVariables(ex0711,x0,1.0e-15)\n",
    "# Value at the solution\n",
    "f = ex0711(root)[0]\n",
    "print(\"x= ({},{}) F(x)=({},{})\".format(root.item(0),root.item(1),f.item(0),f.item(1)))"
   ]
  },
  {
   "cell_type": "markdown",
   "metadata": {},
   "source": [
    "Table 8.6, page 215"
   ]
  },
  {
   "cell_type": "code",
   "execution_count": 23,
   "metadata": {},
   "outputs": [
    {
     "name": "stdout",
     "output_type": "stream",
     "text": [
      "k\txk\t\tF(xk)\t\t||F(xk)||\n",
      "0\t+1.000000E+00\t+3.000000E+00\t+3.457238E+00\n",
      "  \t+1.000000E+00\t+1.718282E+00\n",
      "1\t-2.000000E+00\t-4.840712E-01\t+2.287062E+00\n",
      "  \t-7.182818E-01\t-2.235247E+00\n",
      "2\t-1.664500E+00\t-8.680087E-01\t+1.511178E+00\n",
      "  \t+8.309216E-01\t-1.237021E+00\n",
      "3\t-2.425626E-01\t+2.725982E+00\t+7.741565E+00\n",
      "  \t+2.037712E+00\t+7.245747E+00\n",
      "4\t-1.241556E+00\t-1.346760E+00\t+1.838980E+00\n",
      "  \t+7.712913E-01\t-1.252232E+00\n",
      "5\t-5.805217E-01\t-1.645775E+00\t+2.138259E+00\n",
      "  \t+4.222118E-01\t-1.365129E+00\n",
      "6\t-3.261932E+00\t+7.270839E+00\t+9.756876E+00\n",
      "  \t+2.038260E+00\t+6.506268E+00\n",
      "7\t-1.109053E+00\t-1.487538E+00\t+1.986088E+00\n",
      "  \t+7.075096E-01\t-1.315971E+00\n",
      "8\t-1.479062E+00\t-9.030118E-01\t+1.321012E+00\n",
      "  \t+9.313901E-01\t-9.641795E-01\n",
      "9\t-1.832870E+00\t+3.276810E-01\t+4.113589E-01\n",
      "  \t+1.278283E+00\t+2.486791E-01\n",
      "10\t-1.707157E+00\t-8.164065E-02\t+1.531300E-01\n",
      "  \t+1.190919E+00\t-1.295515E-01\n",
      "11\t-1.709528E+00\t-2.136459E-02\t+3.466046E-02\n",
      "  \t+1.214580E+00\t-2.729289E-02\n",
      "12\t-1.714002E+00\t+2.444559E-03\t+4.491289E-03\n",
      "  \t+1.221739E+00\t+3.767733E-03\n",
      "13\t-1.713776E+00\t+1.190702E-04\t+1.833091E-04\n",
      "  \t+1.220919E+00\t+1.393718E-04\n",
      "14\t-1.713745E+00\t-9.800603E-06\t+1.562086E-05\n",
      "  \t+1.220884E+00\t-1.216386E-05\n",
      "15\t-1.713747E+00\t-1.156968E-07\t+1.854229E-07\n",
      "  \t+1.220887E+00\t-1.448996E-07\n",
      "16\t-1.713747E+00\t-2.430918E-10\t+3.892491E-10\n",
      "  \t+1.220887E+00\t-3.040086E-10\n",
      "17\t-1.713747E+00\t+8.171241E-14\t+1.308037E-13\n",
      "  \t+1.220887E+00\t+1.021405E-13\n",
      "18\t-1.713747E+00\t-2.220446E-16\t+2.220446E-16\n",
      "  \t+1.220887E+00\t+0.000000E+00\n"
     ]
    }
   ],
   "source": [
    "print(\"k\\txk\\t\\tF(xk)\\t\\t||F(xk)||\")\n",
    "for k in range(len(iters)):\n",
    "    print(\"{}\\t{:+E}\\t{:+E}\\t{:+E}\".format(iters[k][0],iters[k][1].item(0),iters[k][2].item(0),linalg.norm(iters[k][2])))\n",
    "    print(\"  \\t{:+E}\\t{:+E}\".format(iters[k][1].item(1),iters[k][2].item(1)))"
   ]
  },
  {
   "cell_type": "code",
   "execution_count": 24,
   "metadata": {},
   "outputs": [
    {
     "data": {
      "image/png": "[encoded data removed]",
      "text/plain": [
       "<Figure size 432x288 with 1 Axes>"
      ]
     },
     "metadata": {},
     "output_type": "display_data"
    }
   ],
   "source": [
    "norm = [linalg.norm(iters[k][2]) for k in range(len(iters))]\n",
    "plt.xlabel(\"Iteration\")\n",
    "plt.ylabel(\"||F(x)||\")\n",
    "plt.plot(norm)\n",
    "plt.show()"
   ]
  },
  {
   "cell_type": "markdown",
   "metadata": {},
   "source": [
    "Table 8.7, page 215."
   ]
  },
  {
   "cell_type": "code",
   "execution_count": 25,
   "metadata": {},
   "outputs": [
    {
     "name": "stdout",
     "output_type": "stream",
     "text": [
      "0\t+4.000000E+00\t+2.000000E+00\t+1.000000E+00\t+0.000000E+00\n",
      "  \t+2.718282E+00\t+3.000000E+00\t+0.000000E+00\t+1.000000E+00\n",
      "1\t-2.000000E+00\t-1.436564E+00\t+1.121499E+00\t+6.958973E-02\n",
      "  \t+1.353353E-01\t+1.547786E+00\t+5.610329E-01\t+1.321338E+00\n",
      "2\t-1.329001E+00\t+1.661843E+00\t+1.005596E+00\t-4.656036E-01\n",
      "  \t+1.892852E-01\t+2.071292E+00\t+3.958567E-01\t+5.586201E-01\n",
      "3\t+1.514875E+00\t+4.075424E+00\t+2.120000E+00\t+4.801851E-01\n",
      "  \t+7.846147E-01\t+1.245681E+01\t+3.357979E+00\t+3.072556E+00\n",
      "4\t-4.831116E-01\t+1.542583E+00\t+2.637104E+00\t+1.135716E+00\n",
      "  \t+2.889343E-01\t+1.784671E+00\t+3.838787E+00\t+3.682075E+00\n",
      "5\t+8.389567E-01\t+8.444236E-01\t+6.903080E-01\t+2.163781E+00\n",
      "  \t+5.596064E-01\t+5.347884E-01\t+2.223969E+00\t+4.534830E+00\n",
      "6\t-4.523864E+00\t+4.076519E+00\t-1.298771E+00\t+3.362571E+00\n",
      "  \t+3.831430E-02\t+1.246351E+01\t+4.440528E-01\t+5.607560E+00\n",
      "7\t-2.181055E-01\t+1.415019E+00\t-1.798708E+00\t+3.671595E+00\n",
      "  \t+3.298713E-01\t+1.501710E+00\t+1.776645E-03\t+5.880942E+00\n",
      "8\t-9.581246E-01\t+1.862780E+00\t-1.223640E-02\t+2.590660E+00\n",
      "  \t+2.278512E-01\t+2.602462E+00\t+1.909259E+00\t+4.726788E+00\n",
      "9\t-1.665740E+00\t+2.556567E+00\t-4.844526E-01\t+3.053648E+00\n",
      "  \t+1.599538E-01\t+4.902024E+00\t+1.550892E+00\t+5.078152E+00\n",
      "10\t-1.414313E+00\t+2.381839E+00\t-9.223762E-01\t+3.357980E+00\n",
      "  \t+1.813808E-01\t+4.254867E+00\t+8.559723E-01\t+5.561082E+00\n",
      "11\t-1.419056E+00\t+2.429161E+00\t-8.327854E-01\t+2.464017E+00\n",
      "  \t+1.809512E-01\t+4.425617E+00\t+9.704230E-01\t+4.419059E+00\n",
      "12\t-1.428003E+00\t+2.443478E+00\t-9.862561E-01\t+2.709591E+00\n",
      "  \t+1.801435E-01\t+4.477939E+00\t+7.338829E-01\t+4.797557E+00\n",
      "13\t-1.427551E+00\t+2.441838E+00\t-9.490509E-01\t+2.574625E+00\n",
      "  \t+1.801842E-01\t+4.471931E+00\t+7.774315E-01\t+4.639579E+00\n",
      "14\t-1.427491E+00\t+2.441768E+00\t-1.087094E+00\t+2.734939E+00\n",
      "  \t+1.801897E-01\t+4.471673E+00\t+6.061014E-01\t+4.838550E+00\n",
      "15\t-1.427495E+00\t+2.441774E+00\t-1.067136E+00\t+2.707915E+00\n",
      "  \t+1.801893E-01\t+4.471694E+00\t+6.310976E-01\t+4.804705E+00\n",
      "16\t-1.427495E+00\t+2.441774E+00\t-1.063677E+00\t+2.703100E+00\n",
      "  \t+1.801893E-01\t+4.471694E+00\t+6.354234E-01\t+4.798683E+00\n",
      "17\t-1.427495E+00\t+2.441774E+00\t-1.064230E+00\t+2.703867E+00\n",
      "  \t+1.801893E-01\t+4.471694E+00\t+6.347315E-01\t+4.799642E+00\n",
      "18\t-1.427495E+00\t+2.441774E+00\t-1.068710E+00\t+2.710067E+00\n",
      "  \t+1.801893E-01\t+4.471694E+00\t+6.347315E-01\t+4.799642E+00\n"
     ]
    }
   ],
   "source": [
    "for k in range(len(iters)):\n",
    "    x = iters[k][1]\n",
    "    A = iters[k][3]\n",
    "    J = ex0711(x)[1]\n",
    "    print(\"{}\\t{:+E}\\t{:+E}\\t{:+E}\\t{:+E}\".format(k,J[0,0],J[0,1],A[0,0],A[0,1]))\n",
    "    print(\"  \\t{:+E}\\t{:+E}\\t{:+E}\\t{:+E}\".format(J[1,0],J[1,1],A[1,0],A[1,1]))\n"
   ]
  },
  {
   "cell_type": "code",
   "execution_count": null,
   "metadata": {},
   "outputs": [],
   "source": []
  },
  {
   "cell_type": "code",
   "execution_count": null,
   "metadata": {},
   "outputs": [],
   "source": []
  }
 ],
 "metadata": {
  "kernelspec": {
   "display_name": "Python 3",
   "language": "python",
   "name": "python3"
  },
  "language_info": {
   "codemirror_mode": {
    "name": "ipython",
    "version": 3
   },
   "file_extension": ".py",
   "mimetype": "text/x-python",
   "name": "python",
   "nbconvert_exporter": "python",
   "pygments_lexer": "ipython3",
   "version": "3.6.4"
  }
 },
 "nbformat": 4,
 "nbformat_minor": 2
}
