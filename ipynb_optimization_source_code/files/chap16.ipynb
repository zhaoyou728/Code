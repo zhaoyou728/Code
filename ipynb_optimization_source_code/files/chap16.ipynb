{
 "cells": [
  {
   "cell_type": "markdown",
   "metadata": {},
   "source": [
    "# Optimization: principles and algorithms"
   ]
  },
  {
   "cell_type": "markdown",
   "metadata": {},
   "source": [
    "Bierlaire, M. (2015). *Optimization: Principles and Algorithms.* EPFL Press.<br>\n",
    "The numbering of the algorithms, tables and page refer to the book."
   ]
  },
  {
   "cell_type": "markdown",
   "metadata": {},
   "source": [
    "## Chapter 16: The simplex method"
   ]
  },
  {
   "cell_type": "markdown",
   "metadata": {},
   "source": [
    "## Algorithm 16.1: Vertex enumeration"
   ]
  },
  {
   "cell_type": "code",
   "execution_count": 1,
   "metadata": {},
   "outputs": [],
   "source": [
    "import numpy as np\n",
    "from scipy import linalg\n",
    "# Define a function simple to call for the inner product\n",
    "def scalarInner(a,b):\n",
    "    return(np.asscalar(a.T.dot(b)))"
   ]
  },
  {
   "cell_type": "code",
   "execution_count": 2,
   "metadata": {},
   "outputs": [],
   "source": [
    "from optimizationExceptions import *\n",
    "import itertools as itt\n",
    "def vertexEnumeration(A,b,c):\n",
    "    m,n = A.shape\n",
    "    if b.shape != (m,1):\n",
    "        raise OptimizationInputError(\"Incompatible sizes: A is {}x{}, b is {}x{}, and should be {}x1\".format(m,n,b.shape[0],b.shape[1],m))\n",
    "    if c.shape != (n,1):\n",
    "        raise OptimizationInputError(\"Incompatible sizes: A is {}x{}, c is {}x{}, and should be {}x1\".format(m,n,c.shape[0],c.shape[1],n))\n",
    "    optvalue = np.inf\n",
    "    iters = list()\n",
    "    for k in itt.combinations(range(n),m):\n",
    "        B = A[:,k]\n",
    "        try:\n",
    "            x = linalg.solve(B,b)\n",
    "            xfull = np.zeros((n,1))\n",
    "            for i,ik in enumerate(k):\n",
    "                xfull[[ik],:] = x[[i],:]\n",
    "            iteroutput = [xfull]\n",
    "            if (x >= 0).all():\n",
    "                f = scalarInner(xfull,c)\n",
    "                iteroutput += [f]\n",
    "                if f < optvalue:\n",
    "                    optvalue = f\n",
    "                    solution = xfull\n",
    "            else:\n",
    "                iteroutput += [np.inf]\n",
    "        except linalg.LinAlgError:\n",
    "            iteroutput += [np.inf]\n",
    "            pass\n",
    "        iters.append(iteroutput)\n",
    "    return solution,optvalue,iters\n",
    "            \n",
    "            \n",
    "    \n",
    "        \n",
    "        \n",
    "        "
   ]
  },
  {
   "cell_type": "markdown",
   "metadata": {},
   "source": [
    "Example 16.4, page 367"
   ]
  },
  {
   "cell_type": "code",
   "execution_count": 3,
   "metadata": {},
   "outputs": [],
   "source": [
    "A = np.matrix([[1,1,1,0],[1,-1,0,1]])\n",
    "b = np.array([[1],[1]])\n",
    "c = np.array([[-1],[-2],[0],[0]])"
   ]
  },
  {
   "cell_type": "code",
   "execution_count": 4,
   "metadata": {},
   "outputs": [
    {
     "data": {
      "text/plain": [
       "array([[0.],\n",
       "       [1.],\n",
       "       [0.],\n",
       "       [2.]])"
      ]
     },
     "execution_count": 4,
     "metadata": {},
     "output_type": "execute_result"
    }
   ],
   "source": [
    "sol,optvalue,iters = vertexEnumeration(A,b,c)\n",
    "sol"
   ]
  },
  {
   "cell_type": "markdown",
   "metadata": {},
   "source": [
    "Table p. 368"
   ]
  },
  {
   "cell_type": "code",
   "execution_count": 5,
   "metadata": {},
   "outputs": [
    {
     "name": "stdout",
     "output_type": "stream",
     "text": [
      "1\t[[ 1. -0.  0.  0.]]\t-1.0\n",
      "2\t[[ 1.  0. -0.  0.]]\t-1.0\n",
      "3\t[[1. 0. 0. 0.]]\t-1.0\n",
      "4\t[[ 0. -1.  2.  0.]]\tinf\n",
      "5\t[[0. 1. 0. 2.]]\t-2.0\n",
      "6\t[[0. 0. 1. 1.]]\t0.0\n"
     ]
    }
   ],
   "source": [
    "for k in range(len(iters)):\n",
    "    print(\"{}\\t{}\\t{}\".format(k+1,iters[k][0].T,iters[k][1]))"
   ]
  },
  {
   "cell_type": "markdown",
   "metadata": {},
   "source": [
    "### Algorithm 16.2: Simplex method"
   ]
  },
  {
   "cell_type": "code",
   "execution_count": 6,
   "metadata": {},
   "outputs": [],
   "source": [
    "def simplex(A,b,c,basis):\n",
    "    def getFullSolution(basis):\n",
    "        # For printing only\n",
    "        B = A[:,basis]\n",
    "        xb = linalg.solve(B,b)\n",
    "        xfull = np.zeros((n,1))\n",
    "        for i,ik in enumerate(basis):\n",
    "            xfull[[ik],:] = xb[[i],:]\n",
    "        return xfull,scalarInner(c,xfull)\n",
    "\n",
    "    m,n = A.shape\n",
    "    if b.shape != (m,1):\n",
    "        raise OptimizationInputError(\"Incompatible sizes: A is {}x{}, b is {}x{}, and should be {}x1\".format(m,n,b.shape[0],b.shape[1],m))\n",
    "    if c.shape != (n,1):\n",
    "        raise OptimizationInputError(\"Incompatible sizes: A is {}x{}, c is {}x{}, and should be {}x1\".format(m,n,c.shape[0],c.shape[1],n))\n",
    "    optvalue = np.inf\n",
    "    iters = list()\n",
    "    stop = False\n",
    "    while not stop:\n",
    "        B = A[:,basis]\n",
    "        # Each column of the matrix d is the dB vector of the corresponding index\n",
    "        d = linalg.solve(B,A)\n",
    "        reducedCost = c.T - c[basis].T.dot(d)\n",
    "        negativeReducedCost = reducedCost < 0\n",
    "        if not negativeReducedCost.any():\n",
    "            iters.append([basis.copy(),reducedCost.copy(),getFullSolution(basis)[0],None,np.inf,None,None,getFullSolution(basis)[1]])\n",
    "            optimalbasis = basis\n",
    "            unbounded = False\n",
    "            stop = True\n",
    "        else:\n",
    "            # In Python, True is larger than False. The next statement return the index of a True entry in the array, that is the index of a negative reduced cost\n",
    "            p = np.argmax(negativeReducedCost)\n",
    "            xb = linalg.solve(B,b)\n",
    "            xfull = np.zeros((n,1))\n",
    "            for i,ik in enumerate(basis):\n",
    "                xfull[[ik],:] = xb[[i],:]\n",
    "            step = np.inf\n",
    "            q = -1\n",
    "            for k in range(m):\n",
    "                if d[k][p] > 0 and step > 0:\n",
    "                    astep = np.asscalar(xb[k]) / d[k][p]\n",
    "                    if astep < step:\n",
    "                        step = astep\n",
    "                        q = k\n",
    "            iters.append([basis.copy(),reducedCost.copy(),getFullSolution(basis)[0],-d[:,p],step,p,basis[q],getFullSolution(basis)[1]])\n",
    "\n",
    "            if q == -1:\n",
    "                optimalbasis = np.zeros((m,1))\n",
    "                unbounded = True\n",
    "                stop = True\n",
    "            else:\n",
    "                basis[q] = p\n",
    "    return optimalbasis,unbounded,iters"
   ]
  },
  {
   "cell_type": "code",
   "execution_count": 7,
   "metadata": {},
   "outputs": [],
   "source": [
    "# Python counts from 0. In the book, indices are counted from 1.\n",
    "basis = [2,3]\n",
    "sol,unbounded,iters = simplex(A,b,c,basis)"
   ]
  },
  {
   "cell_type": "markdown",
   "metadata": {},
   "source": [
    "Example 16.6, page 373. We have renumbered the indices to be as in the book"
   ]
  },
  {
   "cell_type": "code",
   "execution_count": 8,
   "metadata": {},
   "outputs": [
    {
     "name": "stdout",
     "output_type": "stream",
     "text": [
      "Iteration 1\n",
      "***********\n",
      "Basis: [3, 4]\n",
      "B=[[1 0]\n",
      " [0 1]]\n",
      "x=[[0.]\n",
      " [0.]\n",
      " [1.]\n",
      " [1.]]\n",
      "cbar=[[-1. -2.  0.  0.]]\n",
      "Objective function: 0.0\n",
      "Index entering the basis: 1\n",
      "db=[-1. -1.]\n",
      "d=[[ 1.]\n",
      " [ 0.]\n",
      " [-1.]\n",
      " [-1.]]\n",
      "alpha=1.0\n",
      "Index exiting the basis: 3\n",
      "Iteration 2\n",
      "***********\n",
      "Basis: [1, 4]\n",
      "B=[[1 0]\n",
      " [1 1]]\n",
      "x=[[1.]\n",
      " [0.]\n",
      " [0.]\n",
      " [0.]]\n",
      "cbar=[[ 0. -1.  1.  0.]]\n",
      "Objective function: -1.0\n",
      "Index entering the basis: 2\n",
      "db=[-1.  2.]\n",
      "d=[[-1.]\n",
      " [ 1.]\n",
      " [ 0.]\n",
      " [ 2.]]\n",
      "alpha=1.0\n",
      "Index exiting the basis: 1\n",
      "Iteration 3\n",
      "***********\n",
      "Basis: [2, 4]\n",
      "B=[[ 1  0]\n",
      " [-1  1]]\n",
      "x=[[0.]\n",
      " [1.]\n",
      " [0.]\n",
      " [2.]]\n",
      "cbar=[[1. 0. 2. 0.]]\n",
      "Objective function: -2.0\n"
     ]
    }
   ],
   "source": [
    "for k in range(len(iters)):\n",
    "    m,n = A.shape\n",
    "    basis = iters[k][0]\n",
    "    B = A[:,basis]\n",
    "    print(\"Iteration {}\".format(k+1))\n",
    "    print(\"***********\")\n",
    "    print(\"Basis: {}\".format([k+1 for k in basis]))\n",
    "    print(\"B={}\".format(B))\n",
    "    x = iters[k][2]\n",
    "    print(\"x={}\".format(x))\n",
    "    print(\"cbar={}\".format(iters[k][1]))\n",
    "    print(\"Objective function: {}\".format(scalarInner(c,x)))\n",
    "    p = iters[k][5]\n",
    "    if p is not None:\n",
    "        print(\"Index entering the basis: {}\".format(1+p))\n",
    "        db = iters[k][3]\n",
    "        print(\"db={}\".format(db))            \n",
    "        dfull = np.zeros((n,1))\n",
    "        for i,ik in enumerate(basis):\n",
    "            dfull[[ik]] = db[[i]]\n",
    "        dfull[p] = 1.0\n",
    "        print(\"d={}\".format(dfull))\n",
    "        print(\"alpha={}\".format(iters[k][4]))\n",
    "        q = iters[k][6]\n",
    "        print(\"Index exiting the basis: {}\".format(1+q))\n"
   ]
  },
  {
   "cell_type": "markdown",
   "metadata": {},
   "source": [
    "Example 16.7, page 375"
   ]
  },
  {
   "cell_type": "code",
   "execution_count": 9,
   "metadata": {},
   "outputs": [],
   "source": [
    "A = np.matrix([[1,2,2,1,0,0],[2,1,2,0,1,0],[2,2,1,0,0,1]])\n",
    "b = np.array([[20],[20],[20]])\n",
    "c = np.array([[-10],[-12],[-12],[0],[0],[0]])"
   ]
  },
  {
   "cell_type": "code",
   "execution_count": 10,
   "metadata": {},
   "outputs": [],
   "source": [
    "# Python counts from 0. In the book, indices are counted from 1.\n",
    "basis = [3,4,5]\n",
    "sol,unbounded,iters = simplex(A,b,c,basis)"
   ]
  },
  {
   "cell_type": "markdown",
   "metadata": {},
   "source": [
    "Table 16.1, page 376"
   ]
  },
  {
   "cell_type": "code",
   "execution_count": 11,
   "metadata": {},
   "outputs": [
    {
     "name": "stdout",
     "output_type": "stream",
     "text": [
      "0|3 4 5|-10.0 -12.0 -12.0| 0.0  0.0  0.0 20.0 20.0 20.0|-1.0 -2.0 -2.0|10|1|5|    0\n",
      "1|3 0 5| -7.0  -2.0   5.0|10.0  0.0  0.0 10.0  0.0  0.0|-1.5 -0.5 -1.0| 0|2|6| -100\n",
      "2|3 0 1| -9.0  -2.0   7.0|10.0  0.0  0.0 10.0  0.0  0.0|-2.5 -1.5  1.0| 4|3|4| -100\n",
      "3|2 0 1|  3.6   1.6   1.6| 4.0  4.0  4.0  0.0  0.0  0.0|              |  | | | -136\n"
     ]
    }
   ],
   "source": [
    "for k in range(len(iters)):\n",
    "    m,n = A.shape\n",
    "    basis = iters[k][0]\n",
    "    cbar = iters[k][1].reshape(n,)\n",
    "    x = iters[k][2].reshape(n,)\n",
    "    obj = scalarInner(c,x)\n",
    "    s = \"{}|{} {} {}|{:5.1f} {:5.1f} {:5.1f}|{:4.1f} {:4.1f} {:4.1f} {:4.1f} {:4.1f} {:4.1f}\".format(k,*basis,*cbar[np.nonzero(cbar)],*x)\n",
    "    if iters[k][5] is not None: \n",
    "        p = iters[k][5] + 1\n",
    "        q = iters[k][6] + 1\n",
    "        db = iters[k][3]\n",
    "        alpha = iters[k][4]\n",
    "        s += \"|{:4.1f} {:4.1f} {:4.1f}|{:2.0f}|{}|{}|\".format(*db,alpha,p,q)\n",
    "    else:\n",
    "        s += \"|              |  | | |\"\n",
    "    s += \"{:5.0f}\".format(obj)\n",
    "    print(s)\n",
    "    \n",
    "\n"
   ]
  },
  {
   "cell_type": "markdown",
   "metadata": {},
   "source": [
    "### Algorithm 16.3: Tableau pivoting"
   ]
  },
  {
   "cell_type": "code",
   "execution_count": 12,
   "metadata": {},
   "outputs": [],
   "source": [
    "import sys\n",
    "def pivoting(tableau,l,j):\n",
    "    m,n = tableau.shape\n",
    "    if l >= m:\n",
    "        raise OptimizationInputError(\"The row of the pivot ({}) exceeds the size of the tableau ({})\".format(l,m))\n",
    "    if j >= n:\n",
    "        raise OptimizationInputError(\"The column of the pivot ({}) exceeds the size of the tableau ({})\".format(j,n))\n",
    "    thepivot = tableau[l][j]\n",
    "    if abs(thepivot) < sys.float_info.epsilon:\n",
    "        raise OptimizationValueOutOfRange(\"The pivot is too close to zero: {}\".format(thepivot))\n",
    "    thepivotrow = tableau[l,:]\n",
    "    newtableau = np.empty(tableau.shape)\n",
    "    newtableau[l,:] = tableau[l,:] / thepivot\n",
    "    for i in range(m):        \n",
    "        if i != l:\n",
    "            mult = -tableau[i][j] / thepivot\n",
    "            newtableau[i,:] = tableau[i,:] + mult * thepivotrow\n",
    "    return newtableau\n",
    "        "
   ]
  },
  {
   "cell_type": "code",
   "execution_count": 13,
   "metadata": {},
   "outputs": [],
   "source": [
    "def prettyTableau(tableau):\n",
    "    m,n = tableau.shape\n",
    "    s = ''\n",
    "    for i in range(m-1):\n",
    "        formattedRow = ['{:6.2f}' for k in tableau[i,:-1]]\n",
    "        s += '\\t'.join(formattedRow).format(*tableau[i,:-1])\n",
    "        s += '|{:6.2f}'.format(tableau[i,-1])\n",
    "        s += '\\n'\n",
    "    for i in range(n):\n",
    "        s += '------\\t'\n",
    "    s += '\\n'\n",
    "    formattedRow = ['{:6.2f}' for k in tableau[m-1,:-1]]\n",
    "    s += '\\t'.join(formattedRow).format(*tableau[m-1,:-1])\n",
    "    s += '|{:6.2f}'.format(tableau[m-1,-1])\n",
    "    s += '\\n'\n",
    "    \n",
    "    return s"
   ]
  },
  {
   "cell_type": "markdown",
   "metadata": {},
   "source": [
    "Example 16.12, page 380"
   ]
  },
  {
   "cell_type": "code",
   "execution_count": 14,
   "metadata": {},
   "outputs": [
    {
     "name": "stdout",
     "output_type": "stream",
     "text": [
      "  0.00\t  1.50\t  1.00\t  1.00\t -0.50\t  0.00| 10.00\n",
      "  1.00\t  0.50\t  1.00\t  0.00\t  0.50\t  0.00| 10.00\n",
      "  0.00\t  1.00\t -1.00\t  0.00\t -1.00\t  1.00|  0.00\n",
      "------\t------\t------\t------\t------\t------\t------\t\n",
      "  0.00\t -7.00\t -2.00\t  0.00\t  5.00\t  0.00|100.00\n",
      "\n"
     ]
    }
   ],
   "source": [
    "A = np.array([[0,1.5,1,1,-0.5,0,10],[1,0.5,1,0,0.5,0,10],[0,1,-1,0,-1,1,0],[0,-7,-2,0,5,0,100]])\n",
    "print(prettyTableau(A))"
   ]
  },
  {
   "cell_type": "code",
   "execution_count": 15,
   "metadata": {},
   "outputs": [],
   "source": [
    "Apivoted = pivoting(A,2,1)"
   ]
  },
  {
   "cell_type": "code",
   "execution_count": 16,
   "metadata": {},
   "outputs": [
    {
     "name": "stdout",
     "output_type": "stream",
     "text": [
      "  0.00\t  0.00\t  2.50\t  1.00\t  1.00\t -1.50| 10.00\n",
      "  1.00\t  0.00\t  1.50\t  0.00\t  1.00\t -0.50| 10.00\n",
      "  0.00\t  1.00\t -1.00\t  0.00\t -1.00\t  1.00|  0.00\n",
      "------\t------\t------\t------\t------\t------\t------\t\n",
      "  0.00\t  0.00\t -9.00\t  0.00\t -2.00\t  7.00|100.00\n",
      "\n"
     ]
    }
   ],
   "source": [
    "print(prettyTableau(Apivoted))"
   ]
  },
  {
   "cell_type": "markdown",
   "metadata": {},
   "source": [
    "### Algorithm 16.4: Simplex algorithm"
   ]
  },
  {
   "cell_type": "code",
   "execution_count": 17,
   "metadata": {},
   "outputs": [],
   "source": [
    "def simplexTableau(tableau,rowindex):\n",
    "    \"\"\"\n",
    "    :param tableau: the first simplex tableau\n",
    "    :rowindex: for each row, index of the corresponding basic variable\n",
    "    \"\"\"\n",
    "    mtab,ntab = tableau.shape\n",
    "    m = mtab - 1\n",
    "    n = ntab - 1\n",
    "    iters = list()\n",
    "    while True:\n",
    "        colpivot = np.argmax(tableau[-1,:] < 0)\n",
    "        if tableau[-1,colpivot]>= -sys.float_info.epsilon:\n",
    "            # The tableau is optimal\n",
    "            iters.append([tableau,-1,colpivot])\n",
    "            return tableau,rowindex,True,iters\n",
    "        rowpivot = -1\n",
    "        beststep = np.inf\n",
    "        for j in range(m): \n",
    "            if tableau[j,colpivot] > sys.float_info.epsilon:\n",
    "                step = tableau[j,-1] / tableau[j,colpivot]\n",
    "                if step < beststep:\n",
    "                    beststep = step\n",
    "                    rowpivot = j\n",
    "        if rowpivot == -1:\n",
    "            # The problem is unbounded\n",
    "            iters.append([tableau,rowpivot,colpivot])\n",
    "            return tableau,rowindex,False,iters\n",
    "\n",
    "        iters.append([tableau,rowpivot,colpivot])\n",
    "        newtableau = pivoting(tableau,rowpivot,colpivot)\n",
    "        tableau = newtableau.copy()\n",
    "        rowindex[rowpivot] = colpivot\n"
   ]
  },
  {
   "cell_type": "markdown",
   "metadata": {},
   "source": [
    "Example 16.13, page 382"
   ]
  },
  {
   "cell_type": "code",
   "execution_count": 18,
   "metadata": {},
   "outputs": [
    {
     "name": "stdout",
     "output_type": "stream",
     "text": [
      "  0.00\t  0.00\t  1.00\t  0.40\t  0.40\t -0.60|  4.00\n",
      "  1.00\t  0.00\t  0.00\t -0.60\t  0.40\t  0.40|  4.00\n",
      "  0.00\t  1.00\t  0.00\t  0.40\t -0.60\t  0.40|  4.00\n",
      "------\t------\t------\t------\t------\t------\t------\t\n",
      "  0.00\t  0.00\t  0.00\t  3.60\t  1.60\t  1.60|136.00\n",
      "\n"
     ]
    }
   ],
   "source": [
    "A = np.array([[1,2,2,1,0,0,20],[2,1,2,0,1,0,20],[2,2,1,0,0,1,20],[-10,-12,-12,0,0,0,0]])\n",
    "optimalTableau,rowindex,bounded,iters = simplexTableau(A,[3,4,5])\n",
    "print(prettyTableau(optimalTableau))"
   ]
  },
  {
   "cell_type": "code",
   "execution_count": 19,
   "metadata": {
    "scrolled": true
   },
   "outputs": [
    {
     "name": "stdout",
     "output_type": "stream",
     "text": [
      "Iteration 0\n",
      "  1.00\t  2.00\t  2.00\t  1.00\t  0.00\t  0.00| 20.00\n",
      "  2.00\t  1.00\t  2.00\t  0.00\t  1.00\t  0.00| 20.00\n",
      "  2.00\t  2.00\t  1.00\t  0.00\t  0.00\t  1.00| 20.00\n",
      "------\t------\t------\t------\t------\t------\t------\t\n",
      "-10.00\t-12.00\t-12.00\t  0.00\t  0.00\t  0.00|  0.00\n",
      "\n",
      "Pivot in row 1 and column 0\n",
      "\n",
      "\n",
      "Iteration 1\n",
      "  0.00\t  1.50\t  1.00\t  1.00\t -0.50\t  0.00| 10.00\n",
      "  1.00\t  0.50\t  1.00\t  0.00\t  0.50\t  0.00| 10.00\n",
      "  0.00\t  1.00\t -1.00\t  0.00\t -1.00\t  1.00|  0.00\n",
      "------\t------\t------\t------\t------\t------\t------\t\n",
      "  0.00\t -7.00\t -2.00\t  0.00\t  5.00\t  0.00|100.00\n",
      "\n",
      "Pivot in row 2 and column 1\n",
      "\n",
      "\n",
      "Iteration 2\n",
      "  0.00\t  0.00\t  2.50\t  1.00\t  1.00\t -1.50| 10.00\n",
      "  1.00\t  0.00\t  1.50\t  0.00\t  1.00\t -0.50| 10.00\n",
      "  0.00\t  1.00\t -1.00\t  0.00\t -1.00\t  1.00|  0.00\n",
      "------\t------\t------\t------\t------\t------\t------\t\n",
      "  0.00\t  0.00\t -9.00\t  0.00\t -2.00\t  7.00|100.00\n",
      "\n",
      "Pivot in row 0 and column 2\n",
      "\n",
      "\n",
      "Iteration 3\n",
      "  0.00\t  0.00\t  1.00\t  0.40\t  0.40\t -0.60|  4.00\n",
      "  1.00\t  0.00\t  0.00\t -0.60\t  0.40\t  0.40|  4.00\n",
      "  0.00\t  1.00\t  0.00\t  0.40\t -0.60\t  0.40|  4.00\n",
      "------\t------\t------\t------\t------\t------\t------\t\n",
      "  0.00\t  0.00\t  0.00\t  3.60\t  1.60\t  1.60|136.00\n",
      "\n",
      "Pivot in row -1 and column 0\n",
      "\n",
      "\n"
     ]
    }
   ],
   "source": [
    "for k in range(len(iters)):\n",
    "    print(\"Iteration {}\".format(k))\n",
    "    print(prettyTableau(iters[k][0]))\n",
    "    print(\"Pivot in row {} and column {}\".format(iters[k][1],iters[k][2]))\n",
    "    print(\"\\n\")"
   ]
  },
  {
   "cell_type": "markdown",
   "metadata": {},
   "source": [
    "### Algorithm 16.5: Simplex algorithm in two phases"
   ]
  },
  {
   "cell_type": "code",
   "execution_count": 20,
   "metadata": {},
   "outputs": [],
   "source": [
    "def twoPhasesSimplex(A,b,c):\n",
    "    m,n = A.shape\n",
    "    if b.shape != (m,1):\n",
    "        raise OptimizationInputError(\"Incompatible sizes: A is {}x{}, b is {}x{}, and should be {}x1\".format(m,n,b.shape[0],b.shape[1],m))\n",
    "    if c.shape != (n,1):\n",
    "        raise OptimizationInputError(\"Incompatible sizes: A is {}x{}, c is {}x{}, and should be {}x1\".format(m,n,c.shape[0],c.shape[1],n))\n",
    "    # Make sure that b >= 0\n",
    "    b[b < 0.0] *= -1.0\n",
    "    for k in range(m):\n",
    "        if b[k] < 0:\n",
    "            A[k,:] *= -1.0\n",
    "    \n",
    "    # First tableau for Phase I \n",
    "    tableau = np.empty((m+1,n+m+1))\n",
    "    tableau[:m,:n] = A\n",
    "    tableau[:m,n:n+m] = np.eye(m)\n",
    "    tableau[:m,n+m:n+m+1] = b\n",
    "    # The last row \n",
    "    tableau[-1,:n] = np.array([-np.sum(tableau[:m,k]) for k in range(n)]).copy()\n",
    "    tableau[-1,n:n+m] = 0.0\n",
    "    tableau[-1,-1] = -np.sum(tableau[:m,-1])\n",
    "    \n",
    "    rowIndex = np.array([n+k for k in range(m)])\n",
    "    \n",
    "    \n",
    "    # Solve the Phase I auxiliary problem\n",
    "    phaseOneTableau,rowIndex,bounded,itersPhaseOne = simplexTableau(tableau,rowIndex)\n",
    "\n",
    "    \n",
    "    if not bounded:\n",
    "        return None,None,None,True,False\n",
    "    \n",
    "    if phaseOneTableau[-1,-1]  > np.sqrt(sys.float_info.epsilon):\n",
    "        return None,None,None,False,True\n",
    "    feasible = True\n",
    "    \n",
    "    # Remove the auxiliary variables from the basis\n",
    "    clean = False\n",
    "    rowsToRemove = []\n",
    "    while not clean:\n",
    "        # Check if some auxiliary variables are in the basis\n",
    "        tobeCleaned = set(rowIndex).intersection(set(range(n,n+m)))\n",
    "        if tobeCleaned == set():\n",
    "            clean = True\n",
    "        else:\n",
    "            rowpivotIndex = list(rowIndex).index(tobeCleaned.pop())\n",
    "            rowpivot = phaseOneTableau[rowpivotIndex,:]\n",
    "            nonbasic = list(set(range(n+m))-set(rowIndex))\n",
    "            nonzerosPivots = abs(rowpivot[nonbasic]) > sys.float_info.epsilon\n",
    "            if nonzerosPivots.any():\n",
    "                colpivot = nonbasic[np.argmax(nonzerosPivots)]\n",
    "                newtableau = pivoting(phaseOneTableau,rowpivotIndex,colpivot)\n",
    "                phaseOneTableau = newtableau.copy()\n",
    "                rowIndex[rowpivotIndex] = colpivot\n",
    "            else:\n",
    "                rowsToRemove.append(rowpivotIndex)\n",
    "                rowIndex[rowpivotIndex] = -1\n",
    "              \n",
    "    # Delete rows\n",
    "    tmp = np.delete(phaseOneTableau,rowsToRemove,0)\n",
    "    rowIndex = rowIndex[rowIndex >= 0]\n",
    "    m -= len(rowsToRemove)\n",
    "    \n",
    "    # Delete columns\n",
    "    startPhaseTwo = np.delete(tmp,range(n,n+m),1)\n",
    "    \n",
    "    # Calculate last row\n",
    "    \n",
    "    cb = c[rowIndex]\n",
    "    nonbasic = set(range(n))-set(rowIndex)\n",
    "    for k in nonbasic:\n",
    "        startPhaseTwo[-1,k] = c[k] - scalarInner(cb,startPhaseTwo[:m,k])\n",
    "    startPhaseTwo[-1,-1] = -scalarInner(cb,startPhaseTwo[:m,-1])\n",
    "    \n",
    "    # Phase II\n",
    "    \n",
    "    phaseTwoTableau,rowIndex,bounded,itersPhaseTwo = simplexTableau(startPhaseTwo,rowIndex)\n",
    "    \n",
    "    solution = np.zeros(n)\n",
    "    solution[rowIndex] = phaseTwoTableau[:m,-1]\n",
    "    copt = -phaseTwoTableau[-1,-1]\n",
    "    return x,copt,phaseTwoTableau,True,bounded,itersPhaseOne,itersPhaseTwo"
   ]
  },
  {
   "cell_type": "markdown",
   "metadata": {},
   "source": [
    "Example 16.16, p. 392"
   ]
  },
  {
   "cell_type": "code",
   "execution_count": 21,
   "metadata": {},
   "outputs": [],
   "source": [
    "A = np.matrix([[1,3,0,4,1],[1,2,0,-3,1],[-1,-4,3,0,0]],dtype=float)\n",
    "b = np.array([[2],[2],[1]],dtype=float)\n",
    "c = np.array([[2],[3],[3],[1],[-2]],dtype=float)"
   ]
  },
  {
   "cell_type": "code",
   "execution_count": 22,
   "metadata": {},
   "outputs": [],
   "source": [
    "x,copt,phaseTwoTableau,feasible,bounded,itersPhaseOne,itersPhaseTwo = twoPhasesSimplex(A,b,c)"
   ]
  },
  {
   "cell_type": "markdown",
   "metadata": {},
   "source": [
    "Phase I"
   ]
  },
  {
   "cell_type": "code",
   "execution_count": 23,
   "metadata": {},
   "outputs": [
    {
     "name": "stdout",
     "output_type": "stream",
     "text": [
      "  1.00\t  3.00\t  0.00\t  4.00\t  1.00\t  1.00\t  0.00\t  0.00|  2.00\n",
      "  1.00\t  2.00\t  0.00\t -3.00\t  1.00\t  0.00\t  1.00\t  0.00|  2.00\n",
      " -1.00\t -4.00\t  3.00\t  0.00\t  0.00\t  0.00\t  0.00\t  1.00|  1.00\n",
      "------\t------\t------\t------\t------\t------\t------\t------\t------\t\n",
      " -1.00\t -1.00\t -3.00\t -1.00\t -2.00\t  0.00\t  0.00\t  0.00| -5.00\n",
      "\n",
      "  1.00\t  3.00\t  0.00\t  4.00\t  1.00\t  1.00\t  0.00\t  0.00|  2.00\n",
      "  0.00\t -1.00\t  0.00\t -7.00\t  0.00\t -1.00\t  1.00\t  0.00|  0.00\n",
      "  0.00\t -1.00\t  3.00\t  4.00\t  1.00\t  1.00\t  0.00\t  1.00|  3.00\n",
      "------\t------\t------\t------\t------\t------\t------\t------\t------\t\n",
      "  0.00\t  2.00\t -3.00\t  3.00\t -1.00\t  1.00\t  0.00\t  0.00| -3.00\n",
      "\n",
      "  1.00\t  3.00\t  0.00\t  4.00\t  1.00\t  1.00\t  0.00\t  0.00|  2.00\n",
      "  0.00\t -1.00\t  0.00\t -7.00\t  0.00\t -1.00\t  1.00\t  0.00|  0.00\n",
      "  0.00\t -0.33\t  1.00\t  1.33\t  0.33\t  0.33\t  0.00\t  0.33|  1.00\n",
      "------\t------\t------\t------\t------\t------\t------\t------\t------\t\n",
      "  0.00\t  1.00\t  0.00\t  7.00\t  0.00\t  2.00\t  0.00\t  1.00|  0.00\n",
      "\n"
     ]
    }
   ],
   "source": [
    "for k in range(len(itersPhaseOne)):\n",
    "    print(prettyTableau(itersPhaseOne[k][0]))"
   ]
  },
  {
   "cell_type": "markdown",
   "metadata": {},
   "source": [
    "Phase II"
   ]
  },
  {
   "cell_type": "code",
   "execution_count": 24,
   "metadata": {},
   "outputs": [
    {
     "name": "stdout",
     "output_type": "stream",
     "text": [
      "  1.00\t  0.00\t  0.00\t-17.00\t  1.00|  2.00\n",
      " -0.00\t  1.00\t -0.00\t  7.00\t -0.00| -0.00\n",
      "  0.00\t  0.00\t  1.00\t  3.67\t  0.33|  1.00\n",
      "------\t------\t------\t------\t------\t------\t\n",
      "  0.00\t  0.00\t  0.00\t  3.00\t -5.00| -7.00\n",
      "\n",
      "  1.00\t  0.00\t  0.00\t-17.00\t  1.00|  2.00\n",
      "  0.00\t  1.00\t  0.00\t  7.00\t  0.00|  0.00\n",
      " -0.33\t  0.00\t  1.00\t  9.33\t  0.00|  0.33\n",
      "------\t------\t------\t------\t------\t------\t\n",
      "  5.00\t  0.00\t  0.00\t-82.00\t  0.00|  3.00\n",
      "\n",
      "  1.00\t  2.43\t  0.00\t  0.00\t  1.00|  2.00\n",
      "  0.00\t  0.14\t  0.00\t  1.00\t  0.00|  0.00\n",
      " -0.33\t -1.33\t  1.00\t  0.00\t  0.00|  0.33\n",
      "------\t------\t------\t------\t------\t------\t\n",
      "  5.00\t 11.71\t  0.00\t  0.00\t  0.00|  3.00\n",
      "\n"
     ]
    }
   ],
   "source": [
    "for k in range(len(itersPhaseTwo)):\n",
    "    print(prettyTableau(itersPhaseTwo[k][0]))"
   ]
  }
 ],
 "metadata": {
  "kernelspec": {
   "display_name": "Python 3",
   "language": "python",
   "name": "python3"
  },
  "language_info": {
   "codemirror_mode": {
    "name": "ipython",
    "version": 3
   },
   "file_extension": ".py",
   "mimetype": "text/x-python",
   "name": "python",
   "nbconvert_exporter": "python",
   "pygments_lexer": "ipython3",
   "version": "3.6.4"
  }
 },
 "nbformat": 4,
 "nbformat_minor": 2
}
