{
 "cells": [
  {
   "cell_type": "markdown",
   "metadata": {},
   "source": [
    "# Optimization: principles and algorithms"
   ]
  },
  {
   "cell_type": "markdown",
   "metadata": {},
   "source": [
    "Bierlaire, M. (2015). *Optimization: Principles and Algorithms.* EPFL Press"
   ]
  },
  {
   "cell_type": "markdown",
   "metadata": {},
   "source": [
    "## Chapter 9: Quadratic problems"
   ]
  },
  {
   "cell_type": "markdown",
   "metadata": {},
   "source": [
    "### Algorithm 9.1: quadratic problems: direct solution"
   ]
  },
  {
   "cell_type": "code",
   "execution_count": 1,
   "metadata": {},
   "outputs": [],
   "source": [
    "import numpy as np\n",
    "from scipy import linalg\n",
    "def quadraticDirect(Q,b):\n",
    "    L = linalg.cholesky(Q).T\n",
    "    y = linalg.solve_triangular(L,-b,lower=True)\n",
    "    solution = linalg.solve_triangular(L.T,y,lower=False)\n",
    "    return solution\n",
    "    "
   ]
  },
  {
   "cell_type": "markdown",
   "metadata": {},
   "source": [
    "Example 9.8: $Q=\\left(\\begin{array}{cccc} 1& 1 & 1 & 1 \\\\ 1 & 2 & 2 & 2 \\\\ 1 & 2 & 3 & 3 \\\\ 1 & 2 & 3 & 4\\end{array}\\right)$, $b=\\left(\\begin{array}{c}-4 \\\\ -7 \\\\ -9 \\\\ -10\\end{array}\\right)$"
   ]
  },
  {
   "cell_type": "code",
   "execution_count": 2,
   "metadata": {},
   "outputs": [
    {
     "name": "stdout",
     "output_type": "stream",
     "text": [
      "[[1.]\n",
      " [1.]\n",
      " [1.]\n",
      " [1.]]\n"
     ]
    }
   ],
   "source": [
    "Q = np.array([[1, 1, 1, 1] , [1, 2, 2, 2] , [1, 2, 3, 3] , [1, 2, 3, 4]])\n",
    "b = np.array([[-4],[-7],[-9],[-10]])\n",
    "s = quadraticDirect(Q,b)\n",
    "print(s)"
   ]
  },
  {
   "cell_type": "markdown",
   "metadata": {},
   "source": [
    "### Algorithm 9.2: Conjugate gradient method"
   ]
  },
  {
   "cell_type": "code",
   "execution_count": 5,
   "metadata": {},
   "outputs": [],
   "source": [
    "import optimizationExceptions\n",
    "\n",
    "# Define a function simple to call for the inner product\n",
    "def scalarInner(a,b):\n",
    "    return(np.asscalar(a.T.dot(b)))\n",
    "\n",
    "def conjugateGradient(Q,b,x0):\n",
    "    n = len(x0)\n",
    "    xk = x0\n",
    "    gk = Q.dot(xk) + b\n",
    "    iters = list()\n",
    "    dk = -gk\n",
    "    betak = 0\n",
    "    for k in range(n):\n",
    "        denom = scalarInner(dk,Q.dot(dk))\n",
    "        if (denom <= 0):\n",
    "            raise OptimizationLinAlgError('The matrix must be positive definite')\n",
    "        alphak = - np.asscalar(dk.T.dot(gk)) / denom\n",
    "        iters.append([xk,gk,dk,alphak,betak])\n",
    "        xk = xk + alphak * dk\n",
    "        gkp1 = Q.dot(xk) + b\n",
    "        betak = scalarInner(gkp1,gkp1) / scalarInner(gk,gk)\n",
    "        dk = -gkp1 + betak * dk\n",
    "        gk = gkp1\n",
    "    iters.append([xk,gk,dk,alphak,betak])\n",
    "    return (xk,iters)\n",
    "        "
   ]
  },
  {
   "cell_type": "markdown",
   "metadata": {},
   "source": [
    "Run the algorithm from $x_0=\\left(\\begin{array}{c}5 \\\\ 5 \\\\ 5 \\\\ 5 \\end{array}\\right)$."
   ]
  },
  {
   "cell_type": "code",
   "execution_count": 6,
   "metadata": {},
   "outputs": [
    {
     "name": "stdout",
     "output_type": "stream",
     "text": [
      "[[1.]\n",
      " [1.]\n",
      " [1.]\n",
      " [1.]]\n"
     ]
    }
   ],
   "source": [
    "x0 = np.array([[5.0],[5.0],[5.0],[5.0]])\n",
    "(x,iters)=conjugateGradient(Q,b,x0)\n",
    "print(x)"
   ]
  },
  {
   "cell_type": "markdown",
   "metadata": {},
   "source": [
    "Calculate the gradient, to check that it is indeed numerically close to 0."
   ]
  },
  {
   "cell_type": "code",
   "execution_count": 8,
   "metadata": {},
   "outputs": [
    {
     "name": "stdout",
     "output_type": "stream",
     "text": [
      "[[-1.63336011e-12]\n",
      " [-3.06865644e-12]\n",
      " [-4.13535872e-12]\n",
      " [-4.70556927e-12]]\n"
     ]
    }
   ],
   "source": [
    "print(Q.dot(x)+b)"
   ]
  },
  {
   "cell_type": "markdown",
   "metadata": {},
   "source": [
    "Table 9.1, page 231."
   ]
  },
  {
   "cell_type": "code",
   "execution_count": 9,
   "metadata": {},
   "outputs": [
    {
     "name": "stdout",
     "output_type": "stream",
     "text": [
      "k\txk\t\tGrad(xk)\t\tdk\t\talphak\t\ttbetak\n",
      "0\t+5.000000E+00\t+1.600000E+01\t-1.600000E+01\t+1.207658E-01\t+0.000000E+00\n",
      "  \t+5.000000E+00\t+2.800000E+01\t-2.800000E+01\n",
      "  \t+5.000000E+00\t+3.600000E+01\t-3.600000E+01\n",
      "  \t+5.000000E+00\t+4.000000E+01\t-4.000000E+01\n",
      "1\t+3.067747E+00\t+1.508100E+00\t-1.525788E+00\t+1.029534E+00\t+1.105469E-03\n",
      "  \t+1.618557E+00\t+9.484536E-01\t-9.794067E-01\n",
      "  \t+6.524300E-01\t-2.297496E-01\t+1.899527E-01\n",
      "  \t+1.693667E-01\t-1.060383E+00\t+1.016164E+00\n",
      "2\t+1.496896E+00\t+1.706557E-01\t-1.976757E-01\t+2.371723E+00\t+1.770889E-02\n",
      "  \t+6.102242E-01\t-1.555851E-01\t+1.382409E-01\n",
      "  \t+8.479928E-01\t-9.204998E-02\t+9.541383E-02\n",
      "  \t+1.215542E+00\t+1.234923E-01\t-1.054971E-01\n",
      "3\t+1.028064E+00\t+5.777961E-03\t-8.275692E-03\t+3.391183E+00\t+1.263550E-02\n",
      "  \t+9.380933E-01\t-1.650846E-02\t+1.825520E-02\n",
      "  \t+1.074288E+00\t+2.311184E-02\t-2.190624E-02\n",
      "  \t+9.653322E-01\t-1.155592E-02\t+1.022291E-02\n",
      "4\t+1.000000E+00\t-1.633360E-12\t+1.633360E-12\t+3.391183E+00\t+5.271931E-20\n",
      "  \t+1.000000E+00\t-3.068656E-12\t+3.068656E-12\n",
      "  \t+1.000000E+00\t-4.135359E-12\t+4.135359E-12\n",
      "  \t+1.000000E+00\t-4.705569E-12\t+4.705569E-12\n"
     ]
    }
   ],
   "source": [
    "print(\"k\\txk\\t\\tGrad(xk)\\t\\tdk\\t\\talphak\\t\\ttbetak\")\n",
    "for k in range(len(iters)):\n",
    "#    print(iters[k])\n",
    "    print(\"{}\\t{:+E}\\t{:+E}\\t{:+E}\\t{:+E}\\t{:+E}\".format(k,iters[k][0].item(0),iters[k][1].item(0),iters[k][2].item(0),iters[k][3],iters[k][4]))\n",
    "    print(\"  \\t{:+E}\\t{:+E}\\t{:+E}\".format(iters[k][0].item(1),iters[k][1].item(1),iters[k][2].item(1)))\n",
    "    print(\"  \\t{:+E}\\t{:+E}\\t{:+E}\".format(iters[k][0].item(2),iters[k][1].item(2),iters[k][2].item(2)))\n",
    "    print(\"  \\t{:+E}\\t{:+E}\\t{:+E}\".format(iters[k][0].item(3),iters[k][1].item(3),iters[k][2].item(3)))\n",
    "    "
   ]
  },
  {
   "cell_type": "markdown",
   "metadata": {},
   "source": [
    "An error is triggered if the matrix is not definite positive. Here, $Q=\\left(\\begin{array}{cccc} 1& 2 & 3 & 4 \\\\ 5 & 6 & 7 & 8 \\\\ 9 & 10 & 11 & 12 \\\\ 13 & 14 & 15 & 16\\end{array}\\right)$"
   ]
  },
  {
   "cell_type": "code",
   "execution_count": 10,
   "metadata": {},
   "outputs": [
    {
     "ename": "NameError",
     "evalue": "name 'OptimizationLinAlgError' is not defined",
     "output_type": "error",
     "traceback": [
      "\u001b[0;31m---------------------------------------------------------------------------\u001b[0m",
      "\u001b[0;31mNameError\u001b[0m                                 Traceback (most recent call last)",
      "\u001b[0;32m<ipython-input-10-8e5e73a722c2>\u001b[0m in \u001b[0;36m<module>\u001b[0;34m()\u001b[0m\n\u001b[1;32m      2\u001b[0m \u001b[0mb\u001b[0m \u001b[0;34m=\u001b[0m \u001b[0mnp\u001b[0m\u001b[0;34m.\u001b[0m\u001b[0marray\u001b[0m\u001b[0;34m(\u001b[0m\u001b[0;34m[\u001b[0m\u001b[0;34m[\u001b[0m\u001b[0;34m-\u001b[0m\u001b[0;36m4\u001b[0m\u001b[0;34m]\u001b[0m\u001b[0;34m,\u001b[0m\u001b[0;34m[\u001b[0m\u001b[0;34m-\u001b[0m\u001b[0;36m7\u001b[0m\u001b[0;34m]\u001b[0m\u001b[0;34m,\u001b[0m\u001b[0;34m[\u001b[0m\u001b[0;34m-\u001b[0m\u001b[0;36m9\u001b[0m\u001b[0;34m]\u001b[0m\u001b[0;34m,\u001b[0m\u001b[0;34m[\u001b[0m\u001b[0;34m-\u001b[0m\u001b[0;36m10\u001b[0m\u001b[0;34m]\u001b[0m\u001b[0;34m]\u001b[0m\u001b[0;34m)\u001b[0m\u001b[0;34m\u001b[0m\u001b[0m\n\u001b[1;32m      3\u001b[0m \u001b[0mx0\u001b[0m \u001b[0;34m=\u001b[0m \u001b[0mnp\u001b[0m\u001b[0;34m.\u001b[0m\u001b[0marray\u001b[0m\u001b[0;34m(\u001b[0m\u001b[0;34m[\u001b[0m\u001b[0;34m[\u001b[0m\u001b[0;36m5.0\u001b[0m\u001b[0;34m]\u001b[0m\u001b[0;34m,\u001b[0m\u001b[0;34m[\u001b[0m\u001b[0;36m5.0\u001b[0m\u001b[0;34m]\u001b[0m\u001b[0;34m,\u001b[0m\u001b[0;34m[\u001b[0m\u001b[0;36m5.0\u001b[0m\u001b[0;34m]\u001b[0m\u001b[0;34m,\u001b[0m\u001b[0;34m[\u001b[0m\u001b[0;36m5.0\u001b[0m\u001b[0;34m]\u001b[0m\u001b[0;34m]\u001b[0m\u001b[0;34m)\u001b[0m\u001b[0;34m\u001b[0m\u001b[0m\n\u001b[0;32m----> 4\u001b[0;31m \u001b[0;34m(\u001b[0m\u001b[0mx\u001b[0m\u001b[0;34m,\u001b[0m\u001b[0miters\u001b[0m\u001b[0;34m)\u001b[0m\u001b[0;34m=\u001b[0m\u001b[0mconjugateGradient\u001b[0m\u001b[0;34m(\u001b[0m\u001b[0mQ\u001b[0m\u001b[0;34m,\u001b[0m\u001b[0mb\u001b[0m\u001b[0;34m,\u001b[0m\u001b[0mx0\u001b[0m\u001b[0;34m)\u001b[0m\u001b[0;34m\u001b[0m\u001b[0m\n\u001b[0m",
      "\u001b[0;32m<ipython-input-5-cb79be6b3d4c>\u001b[0m in \u001b[0;36mconjugateGradient\u001b[0;34m(Q, b, x0)\u001b[0m\n\u001b[1;32m     15\u001b[0m         \u001b[0mdenom\u001b[0m \u001b[0;34m=\u001b[0m \u001b[0mscalarInner\u001b[0m\u001b[0;34m(\u001b[0m\u001b[0mdk\u001b[0m\u001b[0;34m,\u001b[0m\u001b[0mQ\u001b[0m\u001b[0;34m.\u001b[0m\u001b[0mdot\u001b[0m\u001b[0;34m(\u001b[0m\u001b[0mdk\u001b[0m\u001b[0;34m)\u001b[0m\u001b[0;34m)\u001b[0m\u001b[0;34m\u001b[0m\u001b[0m\n\u001b[1;32m     16\u001b[0m         \u001b[0;32mif\u001b[0m \u001b[0;34m(\u001b[0m\u001b[0mdenom\u001b[0m \u001b[0;34m<=\u001b[0m \u001b[0;36m0\u001b[0m\u001b[0;34m)\u001b[0m\u001b[0;34m:\u001b[0m\u001b[0;34m\u001b[0m\u001b[0m\n\u001b[0;32m---> 17\u001b[0;31m             \u001b[0;32mraise\u001b[0m \u001b[0mOptimizationLinAlgError\u001b[0m\u001b[0;34m(\u001b[0m\u001b[0;34m'The matrix must be positive definite'\u001b[0m\u001b[0;34m)\u001b[0m\u001b[0;34m\u001b[0m\u001b[0m\n\u001b[0m\u001b[1;32m     18\u001b[0m         \u001b[0malphak\u001b[0m \u001b[0;34m=\u001b[0m \u001b[0;34m-\u001b[0m \u001b[0mnp\u001b[0m\u001b[0;34m.\u001b[0m\u001b[0masscalar\u001b[0m\u001b[0;34m(\u001b[0m\u001b[0mdk\u001b[0m\u001b[0;34m.\u001b[0m\u001b[0mT\u001b[0m\u001b[0;34m.\u001b[0m\u001b[0mdot\u001b[0m\u001b[0;34m(\u001b[0m\u001b[0mgk\u001b[0m\u001b[0;34m)\u001b[0m\u001b[0;34m)\u001b[0m \u001b[0;34m/\u001b[0m \u001b[0mdenom\u001b[0m\u001b[0;34m\u001b[0m\u001b[0m\n\u001b[1;32m     19\u001b[0m         \u001b[0miters\u001b[0m\u001b[0;34m.\u001b[0m\u001b[0mappend\u001b[0m\u001b[0;34m(\u001b[0m\u001b[0;34m[\u001b[0m\u001b[0mxk\u001b[0m\u001b[0;34m,\u001b[0m\u001b[0mgk\u001b[0m\u001b[0;34m,\u001b[0m\u001b[0mdk\u001b[0m\u001b[0;34m,\u001b[0m\u001b[0malphak\u001b[0m\u001b[0;34m,\u001b[0m\u001b[0mbetak\u001b[0m\u001b[0;34m]\u001b[0m\u001b[0;34m)\u001b[0m\u001b[0;34m\u001b[0m\u001b[0m\n",
      "\u001b[0;31mNameError\u001b[0m: name 'OptimizationLinAlgError' is not defined"
     ]
    }
   ],
   "source": [
    "Q = np.array([[1, 2, 3, 4] , [5, 6, 7, 8] , [9, 10, 11, 12] , [13, 14, 15, 16]])\n",
    "b = np.array([[-4],[-7],[-9],[-10]])\n",
    "x0 = np.array([[5.0],[5.0],[5.0],[5.0]])\n",
    "(x,iters)=conjugateGradient(Q,b,x0)\n"
   ]
  },
  {
   "cell_type": "code",
   "execution_count": null,
   "metadata": {},
   "outputs": [],
   "source": []
  }
 ],
 "metadata": {
  "kernelspec": {
   "display_name": "Python 3",
   "language": "python",
   "name": "python3"
  },
  "language_info": {
   "codemirror_mode": {
    "name": "ipython",
    "version": 3
   },
   "file_extension": ".py",
   "mimetype": "text/x-python",
   "name": "python",
   "nbconvert_exporter": "python",
   "pygments_lexer": "ipython3",
   "version": "3.6.4"
  }
 },
 "nbformat": 4,
 "nbformat_minor": 2
}
