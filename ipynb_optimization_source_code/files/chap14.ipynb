{
 "cells": [
  {
   "cell_type": "markdown",
   "metadata": {},
   "source": [
    "# Optimization: principles and algorithms"
   ]
  },
  {
   "cell_type": "markdown",
   "metadata": {},
   "source": [
    "Bierlaire, M. (2015). *Optimization: Principles and Algorithms.* EPFL Press.<br>\n",
    "The numbering of the algorithms, tables and page refer to the book."
   ]
  },
  {
   "cell_type": "markdown",
   "metadata": {},
   "source": [
    "## Chapter 14: Least squares problem"
   ]
  },
  {
   "cell_type": "markdown",
   "metadata": {},
   "source": [
    "### Algorithm 14.1: Gauss-Newton"
   ]
  },
  {
   "cell_type": "markdown",
   "metadata": {},
   "source": [
    "Solve $\\min_x f(x)=\\frac{1}{2} g(x)^T g(x)$ using $g(x)$ and $\\nabla g(x)$."
   ]
  },
  {
   "cell_type": "code",
   "execution_count": 1,
   "metadata": {},
   "outputs": [],
   "source": [
    "import numpy as np\n",
    "from scipy import linalg\n",
    "# Define a function simple to call for the inner product\n",
    "def scalarInner(a,b):\n",
    "    return(np.asscalar(a.T.dot(b)))"
   ]
  },
  {
   "cell_type": "code",
   "execution_count": 2,
   "metadata": {},
   "outputs": [],
   "source": [
    "def gaussNewton(obj,x0,eps=1.0e-4,maxiter=100):\n",
    "    n = x0.shape[0]\n",
    "    xk = x0\n",
    "    (g,gradg) = obj(xk)\n",
    "    deriv = gradg.dot(g)\n",
    "    iters = list()\n",
    "    iters.append([xk,0.5*scalarInner(g,g),linalg.norm(deriv)])\n",
    "    k = 0\n",
    "    while linalg.norm(deriv) > eps and k < maxiter:\n",
    "        dk = linalg.solve(gradg.dot(gradg.T),-gradg.dot(g))\n",
    "        xk = xk + dk ;\n",
    "        (g,gradg) = obj(xk)\n",
    "        deriv = gradg.dot(g)\n",
    "        iters.append([xk,0.5*scalarInner(g,g),linalg.norm(deriv)])\n",
    "        k = k + 1\n",
    "    return xk,iters\n",
    "   "
   ]
  },
  {
   "cell_type": "markdown",
   "metadata": {},
   "source": [
    "Example 14.1, page 329"
   ]
  },
  {
   "cell_type": "code",
   "execution_count": 3,
   "metadata": {},
   "outputs": [],
   "source": [
    "men = [ 77005.0,\n",
    "        76315.0,\n",
    "        70891.0,\n",
    "        67667.0,\n",
    "        64643.0,\n",
    "        61770.0,\n",
    "        61593.0,\n",
    "        63227.0,\n",
    "        63684.0,\n",
    "        66914.0,\n",
    "        72407.0,\n",
    "        82413.0,\n",
    "        86515.0,\n",
    "        84896.0,\n",
    "        79660.0,\n",
    "        75827.0,\n",
    "        72606.0,\n",
    "        69423.0,\n",
    "        69690.0,\n",
    "        69744.0,\n",
    "        70418.0,\n",
    "        71998.0,\n",
    "        77268.0,\n",
    "        87299.0]\n",
    "women = [ 57312.0 ,\n",
    "       56839.0 ,\n",
    "       55501.0 ,\n",
    "       55491.0 ,\n",
    "       54217.0 ,\n",
    "       53098.0 ,\n",
    "       54701.0 ,\n",
    "       56596.0 ,\n",
    "       56663.0 ,\n",
    "       58622.0 ,\n",
    "       59660.0 ,\n",
    "       59896.0 ,\n",
    "       61643.0  ,\n",
    "       61105.0  ,\n",
    "       59333.0  ,\n",
    "       60024.0  ,\n",
    "       58684.0  ,\n",
    "       57075.0  ,\n",
    "       58826.0  ,\n",
    "       60212.0  ,\n",
    "       60654.0  ,\n",
    "       61445.0  ,\n",
    "       61805.0  ,\n",
    "       62138.0  ]"
   ]
  },
  {
   "cell_type": "code",
   "execution_count": 4,
   "metadata": {},
   "outputs": [],
   "source": [
    "A = np.empty((len(men),2))\n",
    "A[:,0] = np.array(men)\n",
    "A[:,1] = 1.0\n",
    "b = np.array(women).reshape(len(women),1)\n",
    "\n",
    "def ex1401(x):\n",
    "    g = A.dot(x) - b\n",
    "    return g, A.T"
   ]
  },
  {
   "cell_type": "code",
   "execution_count": 5,
   "metadata": {},
   "outputs": [
    {
     "data": {
      "text/plain": [
       "array([[2.53435732e-01],\n",
       "       [3.99825112e+04]])"
      ]
     },
     "execution_count": 5,
     "metadata": {},
     "output_type": "execute_result"
    }
   ],
   "source": [
    "x0 = np.array([[0],[0]])\n",
    "(sol,iters) = gaussNewton(ex1401,x0)\n",
    "sol"
   ]
  },
  {
   "cell_type": "code",
   "execution_count": 6,
   "metadata": {},
   "outputs": [
    {
     "name": "stdout",
     "output_type": "stream",
     "text": [
      "Number of iteration(s): 1\n"
     ]
    }
   ],
   "source": [
    "print(\"Number of iteration(s): {}\".format(len(iters)-1))"
   ]
  },
  {
   "cell_type": "markdown",
   "metadata": {},
   "source": [
    "Figure 14.1, page 331"
   ]
  },
  {
   "cell_type": "code",
   "execution_count": 7,
   "metadata": {},
   "outputs": [
    {
     "data": {
      "image/png": "[encoded data removed]",
      "text/plain": [
       "<Figure size 432x288 with 1 Axes>"
      ]
     },
     "metadata": {},
     "output_type": "display_data"
    }
   ],
   "source": [
    "%matplotlib inline\n",
    "import matplotlib.pyplot as plt\n",
    "t = np.arange(min(men),max(men), 100)\n",
    "plt.plot(t,sol.item(0)*t + sol.item(1),color='red')\n",
    "plt.scatter(men,women)\n",
    "plt.show()"
   ]
  },
  {
   "cell_type": "markdown",
   "metadata": {},
   "source": [
    "### Algorithm 14.2: Kalman filter"
   ]
  },
  {
   "cell_type": "code",
   "execution_count": 8,
   "metadata": {},
   "outputs": [],
   "source": [
    "def kalmanFilter(x,H,A,b,lbd=1.0):\n",
    "    H = lbd * H + A.T.dot(A)\n",
    "    d = linalg.solve(H,A.T.dot(b-A.dot(x)))\n",
    "    x = x + d\n",
    "    return x,H"
   ]
  },
  {
   "cell_type": "markdown",
   "metadata": {},
   "source": [
    "Example 14.5, page 340. Table 14.3."
   ]
  },
  {
   "cell_type": "code",
   "execution_count": 9,
   "metadata": {},
   "outputs": [
    {
     "name": "stdout",
     "output_type": "stream",
     "text": [
      "0.21075800939512573\t41998.073102822156\n",
      "0.23963015306480753\t40074.374324535864\n",
      "0.24903841146458075\t39451.46648857908\n",
      "0.24935508197492404\t39431.5502333248\n",
      "0.25509174102240634\t39122.56968410651\n",
      "0.25545326724564976\t39157.64458026606\n",
      "0.25499801776510184\t39200.62732569789\n",
      "0.25108663539694964\t39579.67951387378\n",
      "0.24500964592951335\t40172.30449301707\n",
      "0.2409503118980672\t40617.41272731181\n",
      "0.2416309305444442\t40726.71916388981\n",
      "0.25301161807435313\t40011.71877391723\n",
      "0.2534357324827362\t39982.51120367221\n"
     ]
    }
   ],
   "source": [
    "A1 = A[0:12,:]\n",
    "b1 = b[0:12]\n",
    "x = np.zeros((2,1))\n",
    "H = np.zeros((2,2))\n",
    "x,H = kalmanFilter(x,H,A1,b1)\n",
    "print(\"{}\\t{}\".format(x.item(0),x.item(1)))\n",
    "for k in range(12,24):\n",
    "    x,H = kalmanFilter(x,H,A[k,:].reshape(1,2),b[k])\n",
    "    print(\"{}\\t{}\".format(x.item(0),x.item(1)))\n"
   ]
  }
 ],
 "metadata": {
  "kernelspec": {
   "display_name": "Python 3",
   "language": "python",
   "name": "python3"
  },
  "language_info": {
   "codemirror_mode": {
    "name": "ipython",
    "version": 3
   },
   "file_extension": ".py",
   "mimetype": "text/x-python",
   "name": "python",
   "nbconvert_exporter": "python",
   "pygments_lexer": "ipython3",
   "version": "3.6.4"
  }
 },
 "nbformat": 4,
 "nbformat_minor": 2
}
